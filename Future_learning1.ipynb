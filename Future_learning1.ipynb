{
  "nbformat": 4,
  "nbformat_minor": 0,
  "metadata": {
    "colab": {
      "provenance": [],
      "authorship_tag": "ABX9TyMKeNScMiBFb16H5YudS6H1",
      "include_colab_link": true
    },
    "kernelspec": {
      "name": "python3",
      "display_name": "Python 3"
    },
    "language_info": {
      "name": "python"
    }
  },
  "cells": [
    {
      "cell_type": "markdown",
      "metadata": {
        "id": "view-in-github",
        "colab_type": "text"
      },
      "source": [
        "<a href=\"https://colab.research.google.com/github/ChristianCricchi/LearningPython/blob/main/Future_learning1.ipynb\" target=\"_parent\"><img src=\"https://colab.research.google.com/assets/colab-badge.svg\" alt=\"Open In Colab\"/></a>"
      ]
    },
    {
      "cell_type": "markdown",
      "source": [
        "# Functions\n",
        "\n",
        "A piece of reusable code\n",
        "\n",
        "Input(s) ---> Does something ---> Output(s)\n",
        "\n",
        "Example:"
      ],
      "metadata": {
        "id": "bmEk7-meqKrm"
      }
    },
    {
      "cell_type": "code",
      "source": [
        "def double_number(n):\n",
        "  return n * 2"
      ],
      "metadata": {
        "id": "GXnwTlE2qE3w"
      },
      "execution_count": null,
      "outputs": []
    },
    {
      "cell_type": "markdown",
      "source": [
        "The input is just n and it return n * 2\n",
        "When we define function we do not need any of the input(s) we are using an alias or a nickname for that input. In this case the input is n it is when we call this function we actually specifie what we want that this input should to be.\n",
        "If we ran this function does not happen nothin we need to call this function."
      ],
      "metadata": {
        "id": "mwn62U4tq1CA"
      }
    },
    {
      "cell_type": "code",
      "source": [
        "double_number(500)"
      ],
      "metadata": {
        "colab": {
          "base_uri": "https://localhost:8080/"
        },
        "id": "cG_VFiFisT8u",
        "outputId": "6cca48bc-5c86-47e7-de39-2a5888676873"
      },
      "execution_count": null,
      "outputs": [
        {
          "output_type": "execute_result",
          "data": {
            "text/plain": [
              "1000"
            ]
          },
          "metadata": {},
          "execution_count": 2
        }
      ]
    },
    {
      "cell_type": "markdown",
      "source": [
        "# Test Driven Development\n",
        "\n",
        "It is a way that we can sure that our functions do what we expect them to do so we start not by thinking about the code that will get us but we start by thinking about what is our input going to be and what output do we expect so for example:\n",
        "\n",
        "Function to add VAT to numbers\n",
        "\n",
        "Raw Price ---> VAT --> Price with VAT added\n",
        "\n",
        "* Input ---> 1 - 2 - 10 - 100\n",
        "  * Expected ---> Output 1.2 - 2.4 - 12 -120\n",
        "    * Actual ---> Output 1.2 - 2.4 - 12 -120\n",
        "      * Pass|Fail ---> Pass - Pass - Pass - Pass\n"
      ],
      "metadata": {
        "id": "iiKnNsj6ssNx"
      }
    },
    {
      "cell_type": "code",
      "source": [
        "# We define the test cases as a dictionary\n",
        "test_cases = {1:1.2, 2:2.4, 10:12, 100:120} # 1 ---> input,  1.2 ---> Expected"
      ],
      "metadata": {
        "id": "ZMhkM-AcuwqJ"
      },
      "execution_count": null,
      "outputs": []
    },
    {
      "cell_type": "code",
      "source": [
        "# Run the function that will meet these test cases\n",
        "def add_vat(n):\n",
        "  return n * 1.2 # now just return n * 1.2\n",
        "\n",
        "\n"
      ],
      "metadata": {
        "id": "RdD3wonXvSh9"
      },
      "execution_count": null,
      "outputs": []
    },
    {
      "cell_type": "code",
      "source": [
        "# I will use a for loop so I can see if meet my test cases\n",
        "for input, expected in test_cases.items():\n",
        "  actual = add_vat(input)\n",
        "  if actual == expected:\n",
        "    print(f\"The test case for input {input} has passed!\")\n",
        "  else:\n",
        "    print(f\"The test case for input {input} has failed!\")"
      ],
      "metadata": {
        "colab": {
          "base_uri": "https://localhost:8080/"
        },
        "id": "UrNBp3QivyRD",
        "outputId": "11f078f5-97ec-49b1-b65d-4ad4388fa885"
      },
      "execution_count": null,
      "outputs": [
        {
          "output_type": "stream",
          "name": "stdout",
          "text": [
            "The test case for input 1 has passed!\n",
            "The test case for input 2 has passed!\n",
            "The test case for input 10 has passed!\n",
            "The test case for input 100 has passed!\n"
          ]
        }
      ]
    },
    {
      "cell_type": "markdown",
      "source": [
        "# Just return Hello World!"
      ],
      "metadata": {
        "id": "SbqbiKwXWlgG"
      }
    },
    {
      "cell_type": "code",
      "execution_count": null,
      "metadata": {
        "id": "g9zLK68CWeM3"
      },
      "outputs": [],
      "source": [
        "def hello_world():\n",
        "  return # write your code here"
      ]
    },
    {
      "cell_type": "code",
      "source": [
        "def hello_world():\n",
        "  return \"Hello World!\""
      ],
      "metadata": {
        "id": "mdsrBVLnW2nE"
      },
      "execution_count": null,
      "outputs": []
    },
    {
      "cell_type": "markdown",
      "source": [
        "# What is a notebook?\n",
        "\n",
        "\n",
        "---\n",
        "\n",
        "\n",
        "\n",
        "*   IDE - Integrated development environment\n",
        "*   Makes writting code easy\n",
        "*   Cells can be run individually with the output underneath each cell\n",
        "*   Extremely suitable for date work\n",
        "\n",
        "\n",
        "# Google Colab\n",
        "## What is Google Colab?\n",
        "\n",
        "\n",
        "---\n",
        "\n",
        "\n",
        "\n",
        "*   An online IDE for all your notebook needs!\n",
        "*   Your own device does not matter!\n",
        "\n",
        "\n",
        "\n",
        "\n",
        "\n",
        "\n",
        "\n",
        "\n",
        "\n"
      ],
      "metadata": {
        "id": "uiVGtG7JX0lU"
      }
    },
    {
      "cell_type": "code",
      "source": [
        "print('Hello World')"
      ],
      "metadata": {
        "colab": {
          "base_uri": "https://localhost:8080/"
        },
        "id": "rdMwoAlmZ0db",
        "outputId": "a821744a-ee52-4cf4-9de5-71aa20e4c075"
      },
      "execution_count": null,
      "outputs": [
        {
          "output_type": "stream",
          "name": "stdout",
          "text": [
            "Hello World\n"
          ]
        }
      ]
    },
    {
      "cell_type": "markdown",
      "source": [
        "# Declaring a variable\n",
        "\n",
        "\n",
        "---\n",
        "\n",
        "* What you need to create a variable:\n",
        "\n",
        "    *  Name\n",
        "    *  Equals sign (=)\n",
        "    *  Value\n",
        "\n",
        "* Example of variable being made:\n",
        "    * my_variable = \"Hello World!\"\n",
        "\n",
        "\n",
        "\n",
        "\n",
        "\n",
        "\n",
        "\n",
        "\n",
        "\n",
        "\n",
        "\n"
      ],
      "metadata": {
        "id": "Mo-QirfTdsPy"
      }
    },
    {
      "cell_type": "markdown",
      "source": [
        "# Data Types\n",
        "## Overview\n",
        "\n",
        "---\n",
        "\n",
        "* Data types decide what we can do with the data!\n",
        "* Python is dynamically typed\n",
        "  * It detemines the data typed based on what data or Oblect we give it.\n",
        "* Syntax matters - different syntax can lead to different  data types.\n",
        "\n",
        "## String\n",
        "\n",
        "---\n",
        "\n",
        "* It can ba a combination of:\n",
        "  * Letters\n",
        "  * Numbers\n",
        "  * ASCII Characters\n",
        "* Use single or double quotes to create a string.\n",
        "\n",
        "* Some Examples:\n",
        "  * my_variable = \"Hello World\"\n",
        "  * my_variable = \"27\"\n",
        "  * my_variable = 'I love data!'\n",
        "\n",
        "## Floats\n",
        "\n",
        "\n",
        "---\n",
        "\n",
        "Floating point numbers, they are similar to integers except they refer to numbers that have at least one decimal, they can be again negative or positive.\n",
        "\n",
        "* Some examples:\n",
        "  * my_variable = 1.8\n",
        "  * my_variable = -28.9\n",
        "  * my_variable = 1593574.588\n",
        "\n",
        "## Integers\n",
        "\n",
        "---\n",
        "\n",
        "* Integers are whole numbers without decimals.\n",
        "* Can be any lenght.\n",
        "* Positive or negative\n",
        "\n",
        "* Some examples:\n",
        "  * my_variable = 1\n",
        "  * my_variable = -345\n",
        "  * my_variable = 1593574588\n",
        "\n",
        "## Boolean\n",
        "\n",
        "\n",
        "---\n",
        "\n",
        "* Booleans represent two values: True or False\n",
        "* Useful at evaluating expressions\n",
        " Let's imagine we want to check if two numbers are equal. By testing it in Python we would have get:\n",
        "  * True if are equal\n",
        "  * False if they are not\n",
        "\n",
        "## None Type\n",
        "\n",
        "---\n",
        "\n",
        "* None is nothing!\n",
        "* Useful when we don't have data about something.\n",
        "* It is not the same as:\n",
        "  * False\n",
        "  * An Empty string\n",
        "  * 0\n",
        "\n",
        "\n",
        "\n",
        "\n",
        "\n",
        "\n",
        "\n",
        "\n",
        "\n",
        "\n",
        "\n"
      ],
      "metadata": {
        "id": "QTiCum-IiZHw"
      }
    },
    {
      "cell_type": "markdown",
      "source": [
        "# Data collections\n",
        "\n",
        "## Overview\n",
        "\n",
        "\n",
        "---\n",
        "\n",
        "What are Python data structures, you can think a data structure as a way organising and store data such we can modifie and access efficently like a container.\n",
        "\n",
        "In python there are four type of data collection type:\n",
        "\n",
        "\n",
        "*   List\n",
        "*   Tuples\n",
        "*   Dictionary\n",
        "*   Sets\n",
        "\n",
        "All Data structures have certain properties:\n",
        "\n",
        "* Mutable or immutable\n",
        "* Ordered or Unordered\n",
        "* Can or cannot contain duplicates\n",
        "\n"
      ],
      "metadata": {
        "id": "efU6o2_zmPCv"
      }
    },
    {
      "cell_type": "markdown",
      "source": [
        "## Lists\n",
        "\n",
        "---\n",
        "\n",
        "* Square barckets []\n",
        "* Comma-separated (,) values\n",
        "* Ordered, (meaning that the element maintains the same order as they were inserted. Unless explicitly changed)\n",
        "* mutable (meaning we allowed to make changes)\n",
        "* Duplicates allowed\n",
        "\n",
        "We can have list inside list.\n",
        "\n",
        "Example:\n",
        "\n",
        "* ['Orange', 'Apple', 'Orange']\n",
        "* [1, 3, 5, 5, 7, 9]\n",
        "* ['Apple', 'Orange', 3, 6.08, True]\n",
        "\n",
        "\n",
        "\n"
      ],
      "metadata": {
        "id": "NvD-Y6EJoSND"
      }
    },
    {
      "cell_type": "markdown",
      "source": [
        "## Tuples\n",
        "\n",
        "\n",
        "---\n",
        "\n",
        "Big difference with  the list is that the tuples are *Immutable*\n",
        "\n",
        "* Round brackets ()\n",
        "* Comma-separated (,) values\n",
        "* Ordered\n",
        "* Immutable\n",
        "* Suplicates allowed\n",
        "\n",
        "Example:\n",
        "* ('Orange', 'Apple', 'Orange')\n",
        "* (1, 3, 5, 5, 7, 9)\n",
        "* ('Apple', 'Orange', 3, 6.08, True)"
      ],
      "metadata": {
        "id": "asDUAH_UqxtJ"
      }
    },
    {
      "cell_type": "markdown",
      "source": [
        "## Dictionaries\n",
        "\n",
        "---\n",
        "\n",
        "* Curly Brackets {}\n",
        "* Two components: Key-Value pair {k : v} {K which is the descriptor: v is the value that the key refers}\n",
        "* Comma-separated (,) pairs\n",
        "* Ordered (from the python 3.6 the dictionary are ordered)\n",
        "* Mutable\n",
        "* Do not allow duplicate Keys (but allow duplicate values)\n",
        "\n",
        "Examples:\n",
        "\n",
        "* {'Ice cream' : 'chocolate', 'Animal' : 'Guinea Pig'}\n",
        "* {1 : 'flower', 2 : 'petal', 3 ; 'bee'}\n",
        "* {'Name' : 'Lisa', 'Age' : 18}\n",
        "\n"
      ],
      "metadata": {
        "id": "aSJpqAIvsEXc"
      }
    },
    {
      "cell_type": "markdown",
      "source": [
        "## Set\n",
        "\n",
        "\n",
        "---\n",
        "\n",
        "* Curly brackets {}\n",
        "* Comma-separeted (,) values\n",
        "* Unordered (sets have no defined order)\n",
        "* Mutable\n",
        "* Does not allow duplicates\n",
        "  * Automatically removes duplicates values\n",
        "  * All elements are unique\n",
        "\n",
        "Example:\n",
        "\n",
        "* {'orange', 'apple'}\n",
        "* {9, 1, 5, 3, 7}\n",
        "* {3, 6.08, True, 'apple', 'orange'}"
      ],
      "metadata": {
        "id": "guKKzUvyuQ4M"
      }
    },
    {
      "cell_type": "markdown",
      "source": [
        "# Aritmetic Operators\n",
        "\n",
        "---\n",
        "\n",
        "* Data types decide what we can do with the data\n",
        "* Python is dinamically typed\n",
        "  * iT determines the data type based on what data or Object we give it.\n",
        "* Syntax matters - different syntax can lead different data types"
      ],
      "metadata": {
        "id": "jTJ5qbAs0Ep3"
      }
    },
    {
      "cell_type": "markdown",
      "source": [
        "## Addition (+) & Subtraction (-)"
      ],
      "metadata": {
        "id": "EsewyJ9U0xFt"
      }
    },
    {
      "cell_type": "code",
      "source": [
        "add = 1 + 2 +3\n",
        "print(add)"
      ],
      "metadata": {
        "id": "UZc3jf1d080V",
        "outputId": "a0d97d14-05f7-444c-a85a-224839b08ef2",
        "colab": {
          "base_uri": "https://localhost:8080/"
        }
      },
      "execution_count": 13,
      "outputs": [
        {
          "output_type": "stream",
          "name": "stdout",
          "text": [
            "6\n"
          ]
        }
      ]
    },
    {
      "cell_type": "code",
      "source": [
        "add = 8.0 + 2.0\n",
        "print(add)"
      ],
      "metadata": {
        "id": "SztRkU3o1HIy",
        "outputId": "d9bcec02-05a0-4d92-d5a0-385328af62f7",
        "colab": {
          "base_uri": "https://localhost:8080/"
        }
      },
      "execution_count": 14,
      "outputs": [
        {
          "output_type": "stream",
          "name": "stdout",
          "text": [
            "10.0\n"
          ]
        }
      ]
    },
    {
      "cell_type": "code",
      "source": [
        "x = 5\n",
        "y = 3\n",
        "ans = x + y\n",
        "print(ans)"
      ],
      "metadata": {
        "id": "SMgzDsAo1Jaw",
        "outputId": "f374580b-11a4-498e-8cb8-562d81c8d55d",
        "colab": {
          "base_uri": "https://localhost:8080/"
        }
      },
      "execution_count": 3,
      "outputs": [
        {
          "output_type": "stream",
          "name": "stdout",
          "text": [
            "8\n"
          ]
        }
      ]
    },
    {
      "cell_type": "code",
      "source": [
        "sub = 3 - 2 - 1\n",
        "print(sub)"
      ],
      "metadata": {
        "id": "xo0dvCbg1gJE",
        "outputId": "215114cf-b463-4388-adaf-8902728ecae5",
        "colab": {
          "base_uri": "https://localhost:8080/"
        }
      },
      "execution_count": 12,
      "outputs": [
        {
          "output_type": "stream",
          "name": "stdout",
          "text": [
            "0\n"
          ]
        }
      ]
    },
    {
      "cell_type": "code",
      "source": [
        "sub = 8.0 - 2.0\n",
        "print(sub)"
      ],
      "metadata": {
        "id": "JhNJAUwq1mvx",
        "outputId": "5e8e89a7-84ff-4b57-b186-3d3087288bd8",
        "colab": {
          "base_uri": "https://localhost:8080/"
        }
      },
      "execution_count": 11,
      "outputs": [
        {
          "output_type": "stream",
          "name": "stdout",
          "text": [
            "6.0\n"
          ]
        }
      ]
    },
    {
      "cell_type": "code",
      "source": [
        "sub = 3.5 - (-2)\n",
        "print(sub)"
      ],
      "metadata": {
        "id": "RITrXHZD1wD0",
        "outputId": "c67197c3-afa4-4273-bdb8-489a3e99777a",
        "colab": {
          "base_uri": "https://localhost:8080/"
        }
      },
      "execution_count": 10,
      "outputs": [
        {
          "output_type": "stream",
          "name": "stdout",
          "text": [
            "5.5\n"
          ]
        }
      ]
    },
    {
      "cell_type": "code",
      "source": [
        "x = 5\n",
        "y = 3\n",
        "ans = x - y\n",
        "print(ans)"
      ],
      "metadata": {
        "id": "cFhuL9v21wex",
        "outputId": "80947f13-74ce-484c-9859-e7e0a9a996fb",
        "colab": {
          "base_uri": "https://localhost:8080/"
        }
      },
      "execution_count": 7,
      "outputs": [
        {
          "output_type": "stream",
          "name": "stdout",
          "text": [
            "2\n"
          ]
        }
      ]
    },
    {
      "cell_type": "markdown",
      "source": [
        "## Modulus (%)\n",
        "\n",
        "---\n",
        "\n",
        "* Return the reminder of a division problem"
      ],
      "metadata": {
        "id": "nhtT9k3b1_XB"
      }
    },
    {
      "cell_type": "code",
      "source": [
        "modulus = 4 % 2\n",
        "print(modulus)"
      ],
      "metadata": {
        "id": "wGhJTrPQ2KSm",
        "outputId": "55108a02-7416-4d67-d1cd-40b631e60d05",
        "colab": {
          "base_uri": "https://localhost:8080/"
        }
      },
      "execution_count": 8,
      "outputs": [
        {
          "output_type": "stream",
          "name": "stdout",
          "text": [
            "0\n"
          ]
        }
      ]
    },
    {
      "cell_type": "code",
      "source": [
        "modulus = 8.0 % 2.0\n",
        "print(modulus)"
      ],
      "metadata": {
        "id": "vOBZ6AdZ2Rz-",
        "outputId": "64a05efa-0374-4491-b021-e487a995baaa",
        "colab": {
          "base_uri": "https://localhost:8080/"
        }
      },
      "execution_count": 9,
      "outputs": [
        {
          "output_type": "stream",
          "name": "stdout",
          "text": [
            "0.0\n"
          ]
        }
      ]
    },
    {
      "cell_type": "code",
      "source": [
        "modulus = -9 % -4\n",
        "print(modulus)"
      ],
      "metadata": {
        "id": "-P4QMtyp3CDz",
        "outputId": "bc8aad32-becf-44d9-e640-59ec1aefc513",
        "colab": {
          "base_uri": "https://localhost:8080/"
        }
      },
      "execution_count": 15,
      "outputs": [
        {
          "output_type": "stream",
          "name": "stdout",
          "text": [
            "-1\n"
          ]
        }
      ]
    },
    {
      "cell_type": "code",
      "source": [
        "modulus = 5 % 2\n",
        "print(modulus)"
      ],
      "metadata": {
        "id": "D28n--dS3LDZ",
        "outputId": "49551a34-6c73-49c3-aa9f-df46e343be1d",
        "colab": {
          "base_uri": "https://localhost:8080/"
        }
      },
      "execution_count": 16,
      "outputs": [
        {
          "output_type": "stream",
          "name": "stdout",
          "text": [
            "1\n"
          ]
        }
      ]
    },
    {
      "cell_type": "code",
      "source": [
        "modulus = -2 % 3.5\n",
        "print(modulus)"
      ],
      "metadata": {
        "id": "34VwxyAt3Ovp",
        "outputId": "dbc9668f-0dce-4be9-b3b2-12f0946da1cb",
        "colab": {
          "base_uri": "https://localhost:8080/"
        }
      },
      "execution_count": 17,
      "outputs": [
        {
          "output_type": "stream",
          "name": "stdout",
          "text": [
            "1.5\n"
          ]
        }
      ]
    },
    {
      "cell_type": "code",
      "source": [
        "modulus = -9 % 4\n",
        "print(modulus)"
      ],
      "metadata": {
        "id": "zcCm3b3A3SvV",
        "outputId": "88297cfd-91d2-403e-fada-a1686277e97c",
        "colab": {
          "base_uri": "https://localhost:8080/"
        }
      },
      "execution_count": 18,
      "outputs": [
        {
          "output_type": "stream",
          "name": "stdout",
          "text": [
            "3\n"
          ]
        }
      ]
    },
    {
      "cell_type": "code",
      "source": [
        "modulus = 2 % 4\n",
        "print(modulus)"
      ],
      "metadata": {
        "id": "K-CEjARl3XB-",
        "outputId": "25b3da25-b2fd-49c3-e818-58191f1f5c55",
        "colab": {
          "base_uri": "https://localhost:8080/"
        }
      },
      "execution_count": 19,
      "outputs": [
        {
          "output_type": "stream",
          "name": "stdout",
          "text": [
            "2\n"
          ]
        }
      ]
    },
    {
      "cell_type": "code",
      "source": [
        "modulus = 2 % -3.5\n",
        "print(modulus)"
      ],
      "metadata": {
        "id": "B6wpK00M3dU4",
        "outputId": "7dd38744-57a1-402c-c704-e892a99fe99e",
        "colab": {
          "base_uri": "https://localhost:8080/"
        }
      },
      "execution_count": 20,
      "outputs": [
        {
          "output_type": "stream",
          "name": "stdout",
          "text": [
            "-1.5\n"
          ]
        }
      ]
    },
    {
      "cell_type": "code",
      "source": [
        "modulus = 9 % -4\n",
        "print(modulus)"
      ],
      "metadata": {
        "id": "93EDzXXj3guv",
        "outputId": "aa72f9bd-e369-48d0-eb78-c112172c03cd",
        "colab": {
          "base_uri": "https://localhost:8080/"
        }
      },
      "execution_count": 21,
      "outputs": [
        {
          "output_type": "stream",
          "name": "stdout",
          "text": [
            "-3\n"
          ]
        }
      ]
    },
    {
      "cell_type": "markdown",
      "source": [
        "## Moltiplication (*) & Division (/)\n",
        "\n",
        "\n",
        "\n",
        "---\n",
        "\n"
      ],
      "metadata": {
        "id": "_HVY9zsj3sG2"
      }
    },
    {
      "cell_type": "code",
      "source": [
        "mul = 2 * 3\n",
        "print(mul)"
      ],
      "metadata": {
        "id": "flpeJG0f4B8G",
        "outputId": "61d6e88e-bf0b-46d5-e4d7-49e336a7df5d",
        "colab": {
          "base_uri": "https://localhost:8080/"
        }
      },
      "execution_count": 22,
      "outputs": [
        {
          "output_type": "stream",
          "name": "stdout",
          "text": [
            "6\n"
          ]
        }
      ]
    },
    {
      "cell_type": "code",
      "source": [
        "mul = 8.0 * 2.0\n",
        "print(mul)"
      ],
      "metadata": {
        "id": "HN9BgkvT4JHn",
        "outputId": "c15002e2-04f2-405f-886e-76cf8f574492",
        "colab": {
          "base_uri": "https://localhost:8080/"
        }
      },
      "execution_count": 23,
      "outputs": [
        {
          "output_type": "stream",
          "name": "stdout",
          "text": [
            "16.0\n"
          ]
        }
      ]
    },
    {
      "cell_type": "code",
      "source": [
        "mul = 2 * -3.5\n",
        "print(mul)"
      ],
      "metadata": {
        "id": "hUH68_Gj4Wuw",
        "outputId": "ef666544-9ede-4708-9e65-5ce0493bc5ab",
        "colab": {
          "base_uri": "https://localhost:8080/"
        }
      },
      "execution_count": 25,
      "outputs": [
        {
          "output_type": "stream",
          "name": "stdout",
          "text": [
            "-7.0\n"
          ]
        }
      ]
    },
    {
      "cell_type": "code",
      "source": [
        "x = 5\n",
        "y = 3\n",
        "ans = x * y\n",
        "print(ans)"
      ],
      "metadata": {
        "id": "_XGQ2o7r4M1X",
        "outputId": "7b70eaae-f289-44e5-d6a1-8375e627bd92",
        "colab": {
          "base_uri": "https://localhost:8080/"
        }
      },
      "execution_count": 24,
      "outputs": [
        {
          "output_type": "stream",
          "name": "stdout",
          "text": [
            "15\n"
          ]
        }
      ]
    },
    {
      "cell_type": "code",
      "source": [
        "div = 2 / 2\n",
        "print(div)"
      ],
      "metadata": {
        "id": "U2NrVa7_4b2z",
        "outputId": "b4e21ffd-f457-4e1d-ecc5-b78470f6a1c7",
        "colab": {
          "base_uri": "https://localhost:8080/"
        }
      },
      "execution_count": 26,
      "outputs": [
        {
          "output_type": "stream",
          "name": "stdout",
          "text": [
            "1.0\n"
          ]
        }
      ]
    },
    {
      "cell_type": "code",
      "source": [
        "div = 8.0 / -2.0\n",
        "print(div)"
      ],
      "metadata": {
        "id": "pSjs0AKy4hxM",
        "outputId": "8ff363b1-bda6-4e8b-e36c-70ee233738ed",
        "colab": {
          "base_uri": "https://localhost:8080/"
        }
      },
      "execution_count": 28,
      "outputs": [
        {
          "output_type": "stream",
          "name": "stdout",
          "text": [
            "-4.0\n"
          ]
        }
      ]
    },
    {
      "cell_type": "code",
      "source": [
        "div = 5 / 3\n",
        "print(div)"
      ],
      "metadata": {
        "id": "qDsg-WGg4pUy",
        "outputId": "032e8f30-4448-4bfc-e208-262c88169ce1",
        "colab": {
          "base_uri": "https://localhost:8080/"
        }
      },
      "execution_count": 29,
      "outputs": [
        {
          "output_type": "stream",
          "name": "stdout",
          "text": [
            "1.6666666666666667\n"
          ]
        }
      ]
    },
    {
      "cell_type": "code",
      "source": [
        "div = 10.0 / 2\n",
        "print(div)"
      ],
      "metadata": {
        "id": "FK2Y_-zj4tx2",
        "outputId": "7786e724-c8e9-4493-b2c9-a329e24a28a9",
        "colab": {
          "base_uri": "https://localhost:8080/"
        }
      },
      "execution_count": 30,
      "outputs": [
        {
          "output_type": "stream",
          "name": "stdout",
          "text": [
            "5.0\n"
          ]
        }
      ]
    },
    {
      "cell_type": "markdown",
      "source": [
        "If we divede for 0 python will give an Error."
      ],
      "metadata": {
        "id": "85cz5c4x45KH"
      }
    },
    {
      "cell_type": "code",
      "source": [
        "x = 6\n",
        "y = 0\n",
        "div = x / y\n",
        "print(div)"
      ],
      "metadata": {
        "id": "E4CQfb3O4wcz",
        "outputId": "85276eba-e569-4d5e-e797-b13d7dc508d9",
        "colab": {
          "base_uri": "https://localhost:8080/",
          "height": 193
        }
      },
      "execution_count": 31,
      "outputs": [
        {
          "output_type": "error",
          "ename": "ZeroDivisionError",
          "evalue": "division by zero",
          "traceback": [
            "\u001b[0;31m---------------------------------------------------------------------------\u001b[0m",
            "\u001b[0;31mZeroDivisionError\u001b[0m                         Traceback (most recent call last)",
            "\u001b[0;32m<ipython-input-31-e553be3b6b6d>\u001b[0m in \u001b[0;36m<cell line: 3>\u001b[0;34m()\u001b[0m\n\u001b[1;32m      1\u001b[0m \u001b[0mx\u001b[0m \u001b[0;34m=\u001b[0m \u001b[0;36m6\u001b[0m\u001b[0;34m\u001b[0m\u001b[0;34m\u001b[0m\u001b[0m\n\u001b[1;32m      2\u001b[0m \u001b[0my\u001b[0m \u001b[0;34m=\u001b[0m \u001b[0;36m0\u001b[0m\u001b[0;34m\u001b[0m\u001b[0;34m\u001b[0m\u001b[0m\n\u001b[0;32m----> 3\u001b[0;31m \u001b[0mdiv\u001b[0m \u001b[0;34m=\u001b[0m \u001b[0mx\u001b[0m \u001b[0;34m/\u001b[0m \u001b[0my\u001b[0m\u001b[0;34m\u001b[0m\u001b[0;34m\u001b[0m\u001b[0m\n\u001b[0m\u001b[1;32m      4\u001b[0m \u001b[0mprint\u001b[0m\u001b[0;34m(\u001b[0m\u001b[0mdiv\u001b[0m\u001b[0;34m)\u001b[0m\u001b[0;34m\u001b[0m\u001b[0;34m\u001b[0m\u001b[0m\n",
            "\u001b[0;31mZeroDivisionError\u001b[0m: division by zero"
          ]
        }
      ]
    },
    {
      "cell_type": "markdown",
      "source": [
        "## Exponentiation\n",
        "\n",
        "\n",
        "\n",
        "---\n",
        "\n",
        "* Multiplies a value with itself a certain number of time.\n"
      ],
      "metadata": {
        "id": "9CLteqd85A0L"
      }
    },
    {
      "cell_type": "code",
      "source": [
        "exp = 4 ** 2\n",
        "print(exp)"
      ],
      "metadata": {
        "id": "lRnk-eNP5OPj",
        "outputId": "87897f0f-83d5-4080-caad-3bf975239423",
        "colab": {
          "base_uri": "https://localhost:8080/"
        }
      },
      "execution_count": 33,
      "outputs": [
        {
          "output_type": "stream",
          "name": "stdout",
          "text": [
            "16\n"
          ]
        }
      ]
    },
    {
      "cell_type": "code",
      "source": [
        "exp = 8.0 ** 2.0\n",
        "print(exp)"
      ],
      "metadata": {
        "id": "jxIXGsFF5j-Z",
        "outputId": "e569ad75-1937-40ba-94c7-cffc8460d50a",
        "colab": {
          "base_uri": "https://localhost:8080/"
        }
      },
      "execution_count": 34,
      "outputs": [
        {
          "output_type": "stream",
          "name": "stdout",
          "text": [
            "64.0\n"
          ]
        }
      ]
    },
    {
      "cell_type": "code",
      "source": [
        "exp = 5 ** -3\n",
        "print(exp)"
      ],
      "metadata": {
        "id": "FqLT1_3S5oFe",
        "outputId": "dbe6d91d-7c9e-48ad-e680-4b5ef4f395c0",
        "colab": {
          "base_uri": "https://localhost:8080/"
        }
      },
      "execution_count": 35,
      "outputs": [
        {
          "output_type": "stream",
          "name": "stdout",
          "text": [
            "0.008\n"
          ]
        }
      ]
    },
    {
      "cell_type": "code",
      "source": [
        "exp = 5 ** 0\n",
        "print(exp)"
      ],
      "metadata": {
        "id": "6ErAlM-w5smK",
        "outputId": "fbea35ea-6fe9-4010-f53e-8e08540e8f7d",
        "colab": {
          "base_uri": "https://localhost:8080/"
        }
      },
      "execution_count": 36,
      "outputs": [
        {
          "output_type": "stream",
          "name": "stdout",
          "text": [
            "1\n"
          ]
        }
      ]
    },
    {
      "cell_type": "code",
      "source": [
        "exp = 2 ** 3.5\n",
        "print(exp)"
      ],
      "metadata": {
        "id": "M8IIVkC25vmZ",
        "outputId": "8261277f-1eaa-4e97-d7f3-a8742b9d3979",
        "colab": {
          "base_uri": "https://localhost:8080/"
        }
      },
      "execution_count": 37,
      "outputs": [
        {
          "output_type": "stream",
          "name": "stdout",
          "text": [
            "11.313708498984761\n"
          ]
        }
      ]
    },
    {
      "cell_type": "code",
      "source": [
        "exp = (-10) ** -2\n",
        "print(exp)"
      ],
      "metadata": {
        "id": "BapMKMUQ5zzJ",
        "outputId": "52c3191e-006e-40bc-cf9d-4514d0106ef2",
        "colab": {
          "base_uri": "https://localhost:8080/"
        }
      },
      "execution_count": 38,
      "outputs": [
        {
          "output_type": "stream",
          "name": "stdout",
          "text": [
            "0.01\n"
          ]
        }
      ]
    },
    {
      "cell_type": "markdown",
      "source": [
        "## Floor Division\n",
        "\n",
        "---\n",
        "\n",
        "* Division, but rounded the result down to the nearest whole number."
      ],
      "metadata": {
        "id": "2aEjerRs55PX"
      }
    },
    {
      "cell_type": "code",
      "source": [
        "fld = 4 // 2\n",
        "print(fld)"
      ],
      "metadata": {
        "id": "CmyIGrZH6LZv",
        "outputId": "ec58e502-9830-4e87-e09c-65a33245997a",
        "colab": {
          "base_uri": "https://localhost:8080/"
        }
      },
      "execution_count": 39,
      "outputs": [
        {
          "output_type": "stream",
          "name": "stdout",
          "text": [
            "2\n"
          ]
        }
      ]
    },
    {
      "cell_type": "code",
      "source": [
        "fld = 8.0 // 2.0\n",
        "print(fld)"
      ],
      "metadata": {
        "id": "1cq397PS6RBy",
        "outputId": "8b9ccb71-11eb-42a4-af20-9ea0168db908",
        "colab": {
          "base_uri": "https://localhost:8080/"
        }
      },
      "execution_count": 42,
      "outputs": [
        {
          "output_type": "stream",
          "name": "stdout",
          "text": [
            "4.0\n"
          ]
        }
      ]
    },
    {
      "cell_type": "code",
      "source": [
        "fld = -9 // -4\n",
        "print(fld)"
      ],
      "metadata": {
        "id": "hGcje3h96X80",
        "outputId": "ea98ccc2-7cb9-4033-aee0-13b41d6a47d4",
        "colab": {
          "base_uri": "https://localhost:8080/"
        }
      },
      "execution_count": 44,
      "outputs": [
        {
          "output_type": "stream",
          "name": "stdout",
          "text": [
            "2\n"
          ]
        }
      ]
    },
    {
      "cell_type": "code",
      "source": [
        "fld = 5 // 2\n",
        "print(fld)"
      ],
      "metadata": {
        "id": "l1FztxWr6gFD",
        "outputId": "ce65df3b-a8c8-4c75-d69a-b95cee618996",
        "colab": {
          "base_uri": "https://localhost:8080/"
        }
      },
      "execution_count": 45,
      "outputs": [
        {
          "output_type": "stream",
          "name": "stdout",
          "text": [
            "2\n"
          ]
        }
      ]
    },
    {
      "cell_type": "code",
      "source": [
        "fld = -2 // 3.5\n",
        "print(fld)"
      ],
      "metadata": {
        "id": "KH4_l_1i6ims",
        "outputId": "b515a138-2abd-44a3-8b18-75f5234178e0",
        "colab": {
          "base_uri": "https://localhost:8080/"
        }
      },
      "execution_count": 46,
      "outputs": [
        {
          "output_type": "stream",
          "name": "stdout",
          "text": [
            "-1.0\n"
          ]
        }
      ]
    },
    {
      "cell_type": "code",
      "source": [
        "fld = -9 // 4\n",
        "print(fld)"
      ],
      "metadata": {
        "id": "MLkJK6gm6mS2",
        "outputId": "73331e4a-b863-48c2-ae8a-71b9ef37853f",
        "colab": {
          "base_uri": "https://localhost:8080/"
        }
      },
      "execution_count": 47,
      "outputs": [
        {
          "output_type": "stream",
          "name": "stdout",
          "text": [
            "-3\n"
          ]
        }
      ]
    },
    {
      "cell_type": "code",
      "source": [
        "fld = 3 // 4\n",
        "print(fld)"
      ],
      "metadata": {
        "id": "NDps2dpq6pW0",
        "outputId": "bbe9c309-18d5-4948-9ddd-4f45c60c360a",
        "colab": {
          "base_uri": "https://localhost:8080/"
        }
      },
      "execution_count": 48,
      "outputs": [
        {
          "output_type": "stream",
          "name": "stdout",
          "text": [
            "0\n"
          ]
        }
      ]
    },
    {
      "cell_type": "code",
      "source": [
        "fld = -2 // -3.5\n",
        "print(fld)"
      ],
      "metadata": {
        "id": "feWOY4C76tMn",
        "outputId": "38a0781f-1b30-465f-a76d-58f4d23ecc1a",
        "colab": {
          "base_uri": "https://localhost:8080/"
        }
      },
      "execution_count": 50,
      "outputs": [
        {
          "output_type": "stream",
          "name": "stdout",
          "text": [
            "0.0\n"
          ]
        }
      ]
    },
    {
      "cell_type": "code",
      "source": [
        "fld = 9 // -4\n",
        "print(fld)"
      ],
      "metadata": {
        "id": "u6L2G60H6_aP",
        "outputId": "1b7afcff-133d-4d1b-c9e6-cecbf81c6cab",
        "colab": {
          "base_uri": "https://localhost:8080/"
        }
      },
      "execution_count": 51,
      "outputs": [
        {
          "output_type": "stream",
          "name": "stdout",
          "text": [
            "-3\n"
          ]
        }
      ]
    }
  ]
}