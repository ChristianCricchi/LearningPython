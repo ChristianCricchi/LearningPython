{
  "nbformat": 4,
  "nbformat_minor": 0,
  "metadata": {
    "colab": {
      "provenance": [],
      "authorship_tag": "ABX9TyPnKj/6bAOqa+YZMN9smaYK",
      "include_colab_link": true
    },
    "kernelspec": {
      "name": "python3",
      "display_name": "Python 3"
    },
    "language_info": {
      "name": "python"
    }
  },
  "cells": [
    {
      "cell_type": "markdown",
      "metadata": {
        "id": "view-in-github",
        "colab_type": "text"
      },
      "source": [
        "<a href=\"https://colab.research.google.com/github/ChristianCricchi/LearningPython/blob/main/Future_learning1.ipynb\" target=\"_parent\"><img src=\"https://colab.research.google.com/assets/colab-badge.svg\" alt=\"Open In Colab\"/></a>"
      ]
    },
    {
      "cell_type": "markdown",
      "source": [
        "# Functions\n",
        "\n",
        "A piece of reusable code\n",
        "\n",
        "Input(s) ---> Does something ---> Output(s)\n",
        "\n",
        "Example:"
      ],
      "metadata": {
        "id": "bmEk7-meqKrm"
      }
    },
    {
      "cell_type": "code",
      "source": [
        "def double_number(n):\n",
        "  return n * 2"
      ],
      "metadata": {
        "id": "GXnwTlE2qE3w"
      },
      "execution_count": 1,
      "outputs": []
    },
    {
      "cell_type": "markdown",
      "source": [
        "The input is just n and it return n * 2\n",
        "When we define function we do not need any of the input(s) we are using an alias or a nickname for that input. In this case the input is n it is when we call this function we actually specifie what we want that this input should to be.\n",
        "If we ran this function does not happen nothin we need to call this function."
      ],
      "metadata": {
        "id": "mwn62U4tq1CA"
      }
    },
    {
      "cell_type": "code",
      "source": [
        "double_number(500)"
      ],
      "metadata": {
        "colab": {
          "base_uri": "https://localhost:8080/"
        },
        "id": "cG_VFiFisT8u",
        "outputId": "6cca48bc-5c86-47e7-de39-2a5888676873"
      },
      "execution_count": 2,
      "outputs": [
        {
          "output_type": "execute_result",
          "data": {
            "text/plain": [
              "1000"
            ]
          },
          "metadata": {},
          "execution_count": 2
        }
      ]
    },
    {
      "cell_type": "markdown",
      "source": [
        "# Test Driven Development\n",
        "\n",
        "It is a way that we can sure that our functions do what we expect them to do so we start not by thinking about the code that will get us but we start by thinking about what is our input going to be and what output do we expect so for example:\n",
        "\n",
        "Function to add VAT to numbers\n",
        "\n",
        "Raw Price ---> VAT --> Price with VAT added\n",
        "\n",
        "* Input ---> 1 - 2 - 10 - 100\n",
        "  * Expected ---> Output 1.2 - 2.4 - 12 -120\n",
        "    * Actual ---> Output 1.2 - 2.4 - 12 -120\n",
        "      * Pass|Fail ---> Pass - Pass - Pass - Pass\n"
      ],
      "metadata": {
        "id": "iiKnNsj6ssNx"
      }
    },
    {
      "cell_type": "code",
      "source": [
        "# We define the test cases as a dictionary\n",
        "test_cases = {1:1.2, 2:2.4, 10:12, 100:120} # 1 ---> input,  1.2 ---> Expected"
      ],
      "metadata": {
        "id": "ZMhkM-AcuwqJ"
      },
      "execution_count": 3,
      "outputs": []
    },
    {
      "cell_type": "code",
      "source": [
        "# Run the function that will meet these test cases\n",
        "def add_vat(n):\n",
        "  return n * 1.2 # now just return n * 1.2\n",
        "\n",
        "\n"
      ],
      "metadata": {
        "id": "RdD3wonXvSh9"
      },
      "execution_count": 4,
      "outputs": []
    },
    {
      "cell_type": "code",
      "source": [
        "# I will use a for loop so I can see if meet my test cases\n",
        "for input, expected in test_cases.items():\n",
        "  actual = add_vat(input)\n",
        "  if actual == expected:\n",
        "    print(f\"The test case for input {input} has passed!\")\n",
        "  else:\n",
        "    print(f\"The test case for input {input} has failed!\")"
      ],
      "metadata": {
        "colab": {
          "base_uri": "https://localhost:8080/"
        },
        "id": "UrNBp3QivyRD",
        "outputId": "11f078f5-97ec-49b1-b65d-4ad4388fa885"
      },
      "execution_count": 5,
      "outputs": [
        {
          "output_type": "stream",
          "name": "stdout",
          "text": [
            "The test case for input 1 has passed!\n",
            "The test case for input 2 has passed!\n",
            "The test case for input 10 has passed!\n",
            "The test case for input 100 has passed!\n"
          ]
        }
      ]
    },
    {
      "cell_type": "markdown",
      "source": [
        "# Just return Hello World!"
      ],
      "metadata": {
        "id": "SbqbiKwXWlgG"
      }
    },
    {
      "cell_type": "code",
      "execution_count": null,
      "metadata": {
        "id": "g9zLK68CWeM3"
      },
      "outputs": [],
      "source": [
        "def hello_world():\n",
        "  return # write your code here"
      ]
    },
    {
      "cell_type": "code",
      "source": [
        "def hello_world():\n",
        "  return \"Hello World!\""
      ],
      "metadata": {
        "id": "mdsrBVLnW2nE"
      },
      "execution_count": null,
      "outputs": []
    },
    {
      "cell_type": "markdown",
      "source": [
        "# What is a notebook?\n",
        "\n",
        "\n",
        "---\n",
        "\n",
        "\n",
        "\n",
        "*   IDE - Integrated development environment\n",
        "*   Makes writting code easy\n",
        "*   Cells can be run individually with the output underneath each cell\n",
        "*   Extremely suitable for date work\n",
        "\n",
        "\n",
        "# Google Colab\n",
        "## What is Google Colab?\n",
        "\n",
        "\n",
        "---\n",
        "\n",
        "\n",
        "\n",
        "*   An online IDE for all your notebook needs!\n",
        "*   Your own device does not matter!\n",
        "\n",
        "\n",
        "\n",
        "\n",
        "\n",
        "\n",
        "\n",
        "\n",
        "\n"
      ],
      "metadata": {
        "id": "uiVGtG7JX0lU"
      }
    },
    {
      "cell_type": "code",
      "source": [
        "print('Hello World')"
      ],
      "metadata": {
        "colab": {
          "base_uri": "https://localhost:8080/"
        },
        "id": "rdMwoAlmZ0db",
        "outputId": "a821744a-ee52-4cf4-9de5-71aa20e4c075"
      },
      "execution_count": null,
      "outputs": [
        {
          "output_type": "stream",
          "name": "stdout",
          "text": [
            "Hello World\n"
          ]
        }
      ]
    },
    {
      "cell_type": "markdown",
      "source": [
        "# Declaring a variable\n",
        "\n",
        "\n",
        "---\n",
        "\n",
        "* What you need to create a variable:\n",
        "\n",
        "    *  Name\n",
        "    *  Equals sign (=)\n",
        "    *  Value\n",
        "\n",
        "* Example of variable being made:\n",
        "    * my_variable = \"Hello World!\"\n",
        "\n",
        "\n",
        "\n",
        "\n",
        "\n",
        "\n",
        "\n",
        "\n",
        "\n",
        "\n",
        "\n"
      ],
      "metadata": {
        "id": "Mo-QirfTdsPy"
      }
    },
    {
      "cell_type": "markdown",
      "source": [
        "# Data Types\n",
        "## Overview\n",
        "\n",
        "---\n",
        "\n",
        "* Data types decide what we can do with the data!\n",
        "* Python is dynamically typed\n",
        "  * It detemines the data typed based on what data or Oblect we give it.\n",
        "* Syntax matters - different syntax can lead to different  data types.\n",
        "\n",
        "## String\n",
        "\n",
        "---\n",
        "\n",
        "* It can ba a combination of:\n",
        "  * Letters\n",
        "  * Numbers\n",
        "  * ASCII Characters\n",
        "* Use single or double quotes to create a string.\n",
        "\n",
        "* Some Examples:\n",
        "  * my_variable = \"Hello World\"\n",
        "  * my_variable = \"27\"\n",
        "  * my_variable = 'I love data!'\n",
        "\n",
        "## Floats\n",
        "\n",
        "\n",
        "---\n",
        "\n",
        "Floating point numbers, they are similar to integers except they refer to numbers that have at least one decimal, they can be again negative or positive.\n",
        "\n",
        "* Some examples:\n",
        "  * my_variable = 1.8\n",
        "  * my_variable = -28.9\n",
        "  * my_variable = 1593574.588\n",
        "\n",
        "## Integers\n",
        "\n",
        "---\n",
        "\n",
        "* Integers are whole numbers without decimals.\n",
        "* Can be any lenght.\n",
        "* Positive or negative\n",
        "\n",
        "* Some examples:\n",
        "  * my_variable = 1\n",
        "  * my_variable = -345\n",
        "  * my_variable = 1593574588\n",
        "\n",
        "## Boolean\n",
        "\n",
        "\n",
        "---\n",
        "\n",
        "* Booleans represent two values: True or False\n",
        "* Useful at evaluating expressions\n",
        " Let's imagine we want to check if two numbers are equal. By testing it in Python we would have get:\n",
        "  * True if are equal\n",
        "  * False if they are not\n",
        "\n",
        "## None Type\n",
        "\n",
        "---\n",
        "\n",
        "* None is nothing!\n",
        "* Useful when we don't have data about something.\n",
        "* It is not the same as:\n",
        "  * False\n",
        "  * An Empty string\n",
        "  * 0\n",
        "\n",
        "\n",
        "\n",
        "\n",
        "\n",
        "\n",
        "\n",
        "\n",
        "\n",
        "\n",
        "\n"
      ],
      "metadata": {
        "id": "QTiCum-IiZHw"
      }
    },
    {
      "cell_type": "markdown",
      "source": [
        "# Data collections\n",
        "\n",
        "## Overview\n",
        "\n",
        "\n",
        "---\n",
        "\n",
        "What are Python data structures, you can think a data structure as a way organising and store data such we can modifie and access efficently like a container.\n",
        "\n",
        "In python there are four type of data collection type:\n",
        "\n",
        "\n",
        "*   List\n",
        "*   Tuples\n",
        "*   Dictionary\n",
        "*   Sets\n",
        "\n",
        "All Data structures have certain properties:\n",
        "\n",
        "* Mutable or immutable\n",
        "* Ordered or Unordered\n",
        "* Can or cannot contain duplicates\n",
        "\n"
      ],
      "metadata": {
        "id": "efU6o2_zmPCv"
      }
    },
    {
      "cell_type": "markdown",
      "source": [
        "## Lists\n",
        "\n",
        "---\n",
        "\n",
        "* Square barckets []\n",
        "* Comma-separated (,) values\n",
        "* Ordered, (meaning that the element maintains the same order as they were inserted. Unless explicitly changed)\n",
        "* mutable (meaning we allowed to make changes)\n",
        "* Duplicates allowed\n",
        "\n",
        "We can have list inside list.\n",
        "\n",
        "Example:\n",
        "\n",
        "* ['Orange', 'Apple', 'Orange']\n",
        "* [1, 3, 5, 5, 7, 9]\n",
        "* ['Apple', 'Orange', 3, 6.08, True]\n",
        "\n",
        "\n",
        "\n"
      ],
      "metadata": {
        "id": "NvD-Y6EJoSND"
      }
    },
    {
      "cell_type": "markdown",
      "source": [
        "## Tuples\n",
        "\n",
        "\n",
        "---\n",
        "\n",
        "Big difference with  the list is that the tuples are *Immutable*\n",
        "\n",
        "* Round brackets ()\n",
        "* Comma-separated (,) values\n",
        "* Ordered\n",
        "* Immutable\n",
        "* Suplicates allowed\n",
        "\n",
        "Example:\n",
        "* ('Orange', 'Apple', 'Orange')\n",
        "* (1, 3, 5, 5, 7, 9)\n",
        "* ('Apple', 'Orange', 3, 6.08, True)"
      ],
      "metadata": {
        "id": "asDUAH_UqxtJ"
      }
    },
    {
      "cell_type": "markdown",
      "source": [
        "## Dictionaries\n",
        "\n",
        "---\n",
        "\n",
        "* Curly Brackets {}\n",
        "* Two components: Key-Value pair {k : v} {K which is the descriptor: v is the value that the key refers}\n",
        "* Comma-separated (,) pairs\n",
        "* Ordered (from the python 3.6 the dictionary are ordered)\n",
        "* Mutable\n",
        "* Do not allow duplicate Keys (but allow duplicate values)\n",
        "\n",
        "Examples:\n",
        "\n",
        "* {'Ice cream' : 'chocolate', 'Animal' : 'Guinea Pig'}\n",
        "* {1 : 'flower', 2 : 'petal', 3 ; 'bee'}\n",
        "* {'Name' : 'Lisa', 'Age' : 18}\n",
        "\n"
      ],
      "metadata": {
        "id": "aSJpqAIvsEXc"
      }
    },
    {
      "cell_type": "markdown",
      "source": [
        "## Set\n",
        "\n",
        "\n",
        "---\n",
        "\n",
        "* Curly brackets {}\n",
        "* Comma-separeted (,) values\n",
        "* Unordered (sets have no defined order)\n",
        "* Mutable\n",
        "* Does not allow duplicates\n",
        "  * Automatically removes duplicates values\n",
        "  * All elements are unique\n",
        "\n",
        "Example:\n",
        "\n",
        "* {'orange', 'apple'}\n",
        "* {9, 1, 5, 3, 7}\n",
        "* {3, 6.08, True, 'apple', 'orange'}"
      ],
      "metadata": {
        "id": "guKKzUvyuQ4M"
      }
    }
  ]
}