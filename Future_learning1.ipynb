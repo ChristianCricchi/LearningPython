{
  "nbformat": 4,
  "nbformat_minor": 0,
  "metadata": {
    "colab": {
      "provenance": [],
      "authorship_tag": "ABX9TyO7d8tr+f7Xz6Sc3GiRgIv3",
      "include_colab_link": true
    },
    "kernelspec": {
      "name": "python3",
      "display_name": "Python 3"
    },
    "language_info": {
      "name": "python"
    }
  },
  "cells": [
    {
      "cell_type": "markdown",
      "metadata": {
        "id": "view-in-github",
        "colab_type": "text"
      },
      "source": [
        "<a href=\"https://colab.research.google.com/github/ChristianCricchi/LearningPython/blob/main/Future_learning1.ipynb\" target=\"_parent\"><img src=\"https://colab.research.google.com/assets/colab-badge.svg\" alt=\"Open In Colab\"/></a>"
      ]
    },
    {
      "cell_type": "markdown",
      "source": [
        "# Functions\n",
        "\n",
        "A piece of reusable code\n",
        "\n",
        "Input(s) ---> Does something ---> Output(s)\n",
        "\n",
        "Example:"
      ],
      "metadata": {
        "id": "bmEk7-meqKrm"
      }
    },
    {
      "cell_type": "code",
      "source": [
        "def double_number(n):\n",
        "  return n * 2"
      ],
      "metadata": {
        "id": "GXnwTlE2qE3w"
      },
      "execution_count": null,
      "outputs": []
    },
    {
      "cell_type": "markdown",
      "source": [
        "The input is just n and it return n * 2\n",
        "When we define function we do not need any of the input(s) we are using an alias or a nickname for that input. In this case the input is n it is when we call this function we actually specifie what we want that this input should to be.\n",
        "If we ran this function does not happen nothin we need to call this function."
      ],
      "metadata": {
        "id": "mwn62U4tq1CA"
      }
    },
    {
      "cell_type": "code",
      "source": [
        "double_number(500)"
      ],
      "metadata": {
        "colab": {
          "base_uri": "https://localhost:8080/"
        },
        "id": "cG_VFiFisT8u",
        "outputId": "6cca48bc-5c86-47e7-de39-2a5888676873"
      },
      "execution_count": null,
      "outputs": [
        {
          "output_type": "execute_result",
          "data": {
            "text/plain": [
              "1000"
            ]
          },
          "metadata": {},
          "execution_count": 2
        }
      ]
    },
    {
      "cell_type": "markdown",
      "source": [
        "# Test Driven Development\n",
        "\n",
        "It is a way that we can sure that our functions do what we expect them to do so we start not by thinking about the code that will get us but we start by thinking about what is our input going to be and what output do we expect so for example:\n",
        "\n",
        "Function to add VAT to numbers\n",
        "\n",
        "Raw Price ---> VAT --> Price with VAT added\n",
        "\n",
        "* Input ---> 1 - 2 - 10 - 100\n",
        "  * Expected ---> Output 1.2 - 2.4 - 12 -120\n",
        "    * Actual ---> Output 1.2 - 2.4 - 12 -120\n",
        "      * Pass|Fail ---> Pass - Pass - Pass - Pass\n"
      ],
      "metadata": {
        "id": "iiKnNsj6ssNx"
      }
    },
    {
      "cell_type": "code",
      "source": [
        "# We define the test cases as a dictionary\n",
        "test_cases = {1:1.2, 2:2.4, 10:12, 100:120} # 1 ---> input,  1.2 ---> Expected"
      ],
      "metadata": {
        "id": "ZMhkM-AcuwqJ"
      },
      "execution_count": null,
      "outputs": []
    },
    {
      "cell_type": "code",
      "source": [
        "# Run the function that will meet these test cases\n",
        "def add_vat(n):\n",
        "  return n * 1.2 # now just return n * 1.2\n",
        "\n",
        "\n"
      ],
      "metadata": {
        "id": "RdD3wonXvSh9"
      },
      "execution_count": null,
      "outputs": []
    },
    {
      "cell_type": "code",
      "source": [
        "# I will use a for loop so I can see if meet my test cases\n",
        "for input, expected in test_cases.items():\n",
        "  actual = add_vat(input)\n",
        "  if actual == expected:\n",
        "    print(f\"The test case for input {input} has passed!\")\n",
        "  else:\n",
        "    print(f\"The test case for input {input} has failed!\")"
      ],
      "metadata": {
        "colab": {
          "base_uri": "https://localhost:8080/"
        },
        "id": "UrNBp3QivyRD",
        "outputId": "11f078f5-97ec-49b1-b65d-4ad4388fa885"
      },
      "execution_count": null,
      "outputs": [
        {
          "output_type": "stream",
          "name": "stdout",
          "text": [
            "The test case for input 1 has passed!\n",
            "The test case for input 2 has passed!\n",
            "The test case for input 10 has passed!\n",
            "The test case for input 100 has passed!\n"
          ]
        }
      ]
    },
    {
      "cell_type": "markdown",
      "source": [
        "# Just return Hello World!"
      ],
      "metadata": {
        "id": "SbqbiKwXWlgG"
      }
    },
    {
      "cell_type": "code",
      "execution_count": null,
      "metadata": {
        "id": "g9zLK68CWeM3"
      },
      "outputs": [],
      "source": [
        "def hello_world():\n",
        "  return # write your code here"
      ]
    },
    {
      "cell_type": "code",
      "source": [
        "def hello_world():\n",
        "  return \"Hello World!\""
      ],
      "metadata": {
        "id": "mdsrBVLnW2nE"
      },
      "execution_count": null,
      "outputs": []
    },
    {
      "cell_type": "markdown",
      "source": [
        "# What is a notebook?\n",
        "\n",
        "\n",
        "---\n",
        "\n",
        "\n",
        "\n",
        "*   IDE - Integrated development environment\n",
        "*   Makes writting code easy\n",
        "*   Cells can be run individually with the output underneath each cell\n",
        "*   Extremely suitable for date work\n",
        "\n",
        "\n",
        "# Google Colab\n",
        "## What is Google Colab?\n",
        "\n",
        "\n",
        "---\n",
        "\n",
        "\n",
        "\n",
        "*   An online IDE for all your notebook needs!\n",
        "*   Your own device does not matter!\n",
        "\n",
        "\n",
        "\n",
        "\n",
        "\n",
        "\n",
        "\n",
        "\n",
        "\n"
      ],
      "metadata": {
        "id": "uiVGtG7JX0lU"
      }
    },
    {
      "cell_type": "code",
      "source": [
        "print('Hello World')"
      ],
      "metadata": {
        "colab": {
          "base_uri": "https://localhost:8080/"
        },
        "id": "rdMwoAlmZ0db",
        "outputId": "a821744a-ee52-4cf4-9de5-71aa20e4c075"
      },
      "execution_count": null,
      "outputs": [
        {
          "output_type": "stream",
          "name": "stdout",
          "text": [
            "Hello World\n"
          ]
        }
      ]
    },
    {
      "cell_type": "markdown",
      "source": [
        "# Declaring a variable\n",
        "\n",
        "\n",
        "---\n",
        "\n",
        "* What you need to create a variable:\n",
        "\n",
        "    *  Name\n",
        "    *  Equals sign (=)\n",
        "    *  Value\n",
        "\n",
        "* Example of variable being made:\n",
        "    * my_variable = \"Hello World!\"\n",
        "\n",
        "\n",
        "\n",
        "\n",
        "\n",
        "\n",
        "\n",
        "\n",
        "\n",
        "\n",
        "\n"
      ],
      "metadata": {
        "id": "Mo-QirfTdsPy"
      }
    },
    {
      "cell_type": "markdown",
      "source": [
        "# Data Types\n",
        "## Overview\n",
        "\n",
        "---\n",
        "\n",
        "* Data types decide what we can do with the data!\n",
        "* Python is dynamically typed\n",
        "  * It detemines the data typed based on what data or Oblect we give it.\n",
        "* Syntax matters - different syntax can lead to different  data types.\n",
        "\n",
        "## String\n",
        "\n",
        "---\n",
        "\n",
        "* It can ba a combination of:\n",
        "  * Letters\n",
        "  * Numbers\n",
        "  * ASCII Characters\n",
        "* Use single or double quotes to create a string.\n",
        "\n",
        "* Some Examples:\n",
        "  * my_variable = \"Hello World\"\n",
        "  * my_variable = \"27\"\n",
        "  * my_variable = 'I love data!'\n",
        "\n",
        "## Floats\n",
        "\n",
        "\n",
        "---\n",
        "\n",
        "Floating point numbers, they are similar to integers except they refer to numbers that have at least one decimal, they can be again negative or positive.\n",
        "\n",
        "* Some examples:\n",
        "  * my_variable = 1.8\n",
        "  * my_variable = -28.9\n",
        "  * my_variable = 1593574.588\n",
        "\n",
        "## Integers\n",
        "\n",
        "---\n",
        "\n",
        "* Integers are whole numbers without decimals.\n",
        "* Can be any lenght.\n",
        "* Positive or negative\n",
        "\n",
        "* Some examples:\n",
        "  * my_variable = 1\n",
        "  * my_variable = -345\n",
        "  * my_variable = 1593574588\n",
        "\n",
        "## Boolean\n",
        "\n",
        "\n",
        "---\n",
        "\n",
        "* Booleans represent two values: True or False\n",
        "* Useful at evaluating expressions\n",
        " Let's imagine we want to check if two numbers are equal. By testing it in Python we would have get:\n",
        "  * True if are equal\n",
        "  * False if they are not\n",
        "\n",
        "## None Type\n",
        "\n",
        "---\n",
        "\n",
        "* None is nothing!\n",
        "* Useful when we don't have data about something.\n",
        "* It is not the same as:\n",
        "  * False\n",
        "  * An Empty string\n",
        "  * 0\n",
        "\n",
        "\n",
        "\n",
        "\n",
        "\n",
        "\n",
        "\n",
        "\n",
        "\n",
        "\n",
        "\n"
      ],
      "metadata": {
        "id": "QTiCum-IiZHw"
      }
    },
    {
      "cell_type": "markdown",
      "source": [
        "# Data collections\n",
        "\n",
        "## Overview\n",
        "\n",
        "\n",
        "---\n",
        "\n",
        "What are Python data structures, you can think a data structure as a way organising and store data such we can modifie and access efficently like a container.\n",
        "\n",
        "In python there are four type of data collection type:\n",
        "\n",
        "\n",
        "*   List\n",
        "*   Tuples\n",
        "*   Dictionary\n",
        "*   Sets\n",
        "\n",
        "All Data structures have certain properties:\n",
        "\n",
        "* Mutable or immutable\n",
        "* Ordered or Unordered\n",
        "* Can or cannot contain duplicates\n",
        "\n"
      ],
      "metadata": {
        "id": "efU6o2_zmPCv"
      }
    },
    {
      "cell_type": "markdown",
      "source": [
        "## Lists\n",
        "\n",
        "---\n",
        "\n",
        "* Square barckets []\n",
        "* Comma-separated (,) values\n",
        "* Ordered, (meaning that the element maintains the same order as they were inserted. Unless explicitly changed)\n",
        "* mutable (meaning we allowed to make changes)\n",
        "* Duplicates allowed\n",
        "\n",
        "We can have list inside list.\n",
        "\n",
        "Example:\n",
        "\n",
        "* ['Orange', 'Apple', 'Orange']\n",
        "* [1, 3, 5, 5, 7, 9]\n",
        "* ['Apple', 'Orange', 3, 6.08, True]\n",
        "\n",
        "\n",
        "\n"
      ],
      "metadata": {
        "id": "NvD-Y6EJoSND"
      }
    },
    {
      "cell_type": "markdown",
      "source": [
        "## Tuples\n",
        "\n",
        "\n",
        "---\n",
        "\n",
        "Big difference with  the list is that the tuples are *Immutable*\n",
        "\n",
        "* Round brackets ()\n",
        "* Comma-separated (,) values\n",
        "* Ordered\n",
        "* Immutable\n",
        "* Suplicates allowed\n",
        "\n",
        "Example:\n",
        "* ('Orange', 'Apple', 'Orange')\n",
        "* (1, 3, 5, 5, 7, 9)\n",
        "* ('Apple', 'Orange', 3, 6.08, True)"
      ],
      "metadata": {
        "id": "asDUAH_UqxtJ"
      }
    },
    {
      "cell_type": "markdown",
      "source": [
        "## Dictionaries\n",
        "\n",
        "---\n",
        "\n",
        "* Curly Brackets {}\n",
        "* Two components: Key-Value pair {k : v} {K which is the descriptor: v is the value that the key refers}\n",
        "* Comma-separated (,) pairs\n",
        "* Ordered (from the python 3.6 the dictionary are ordered)\n",
        "* Mutable\n",
        "* Do not allow duplicate Keys (but allow duplicate values)\n",
        "\n",
        "Examples:\n",
        "\n",
        "* {'Ice cream' : 'chocolate', 'Animal' : 'Guinea Pig'}\n",
        "* {1 : 'flower', 2 : 'petal', 3 ; 'bee'}\n",
        "* {'Name' : 'Lisa', 'Age' : 18}\n",
        "\n"
      ],
      "metadata": {
        "id": "aSJpqAIvsEXc"
      }
    },
    {
      "cell_type": "markdown",
      "source": [
        "## Set\n",
        "\n",
        "\n",
        "---\n",
        "\n",
        "* Curly brackets {}\n",
        "* Comma-separeted (,) values\n",
        "* Unordered (sets have no defined order)\n",
        "* Mutable\n",
        "* Does not allow duplicates\n",
        "  * Automatically removes duplicates values\n",
        "  * All elements are unique\n",
        "\n",
        "Example:\n",
        "\n",
        "* {'orange', 'apple'}\n",
        "* {9, 1, 5, 3, 7}\n",
        "* {3, 6.08, True, 'apple', 'orange'}"
      ],
      "metadata": {
        "id": "guKKzUvyuQ4M"
      }
    },
    {
      "cell_type": "markdown",
      "source": [
        "# Aritmetic Operators\n",
        "\n",
        "---\n",
        "\n",
        "* Data types decide what we can do with the data\n",
        "* Python is dinamically typed\n",
        "  * iT determines the data type based on what data or Object we give it.\n",
        "* Syntax matters - different syntax can lead different data types"
      ],
      "metadata": {
        "id": "jTJ5qbAs0Ep3"
      }
    },
    {
      "cell_type": "markdown",
      "source": [
        "## Addition (+) & Subtraction (-)"
      ],
      "metadata": {
        "id": "EsewyJ9U0xFt"
      }
    },
    {
      "cell_type": "code",
      "source": [
        "add = 1 + 2 +3\n",
        "print(add)"
      ],
      "metadata": {
        "id": "UZc3jf1d080V",
        "outputId": "a0d97d14-05f7-444c-a85a-224839b08ef2",
        "colab": {
          "base_uri": "https://localhost:8080/"
        }
      },
      "execution_count": null,
      "outputs": [
        {
          "output_type": "stream",
          "name": "stdout",
          "text": [
            "6\n"
          ]
        }
      ]
    },
    {
      "cell_type": "code",
      "source": [
        "add = 8.0 + 2.0\n",
        "print(add)"
      ],
      "metadata": {
        "id": "SztRkU3o1HIy",
        "outputId": "d9bcec02-05a0-4d92-d5a0-385328af62f7",
        "colab": {
          "base_uri": "https://localhost:8080/"
        }
      },
      "execution_count": null,
      "outputs": [
        {
          "output_type": "stream",
          "name": "stdout",
          "text": [
            "10.0\n"
          ]
        }
      ]
    },
    {
      "cell_type": "code",
      "source": [
        "x = 5\n",
        "y = 3\n",
        "ans = x + y\n",
        "print(ans)"
      ],
      "metadata": {
        "id": "SMgzDsAo1Jaw",
        "outputId": "f374580b-11a4-498e-8cb8-562d81c8d55d",
        "colab": {
          "base_uri": "https://localhost:8080/"
        }
      },
      "execution_count": null,
      "outputs": [
        {
          "output_type": "stream",
          "name": "stdout",
          "text": [
            "8\n"
          ]
        }
      ]
    },
    {
      "cell_type": "code",
      "source": [
        "sub = 3 - 2 - 1\n",
        "print(sub)"
      ],
      "metadata": {
        "id": "xo0dvCbg1gJE",
        "outputId": "215114cf-b463-4388-adaf-8902728ecae5",
        "colab": {
          "base_uri": "https://localhost:8080/"
        }
      },
      "execution_count": null,
      "outputs": [
        {
          "output_type": "stream",
          "name": "stdout",
          "text": [
            "0\n"
          ]
        }
      ]
    },
    {
      "cell_type": "code",
      "source": [
        "sub = 8.0 - 2.0\n",
        "print(sub)"
      ],
      "metadata": {
        "id": "JhNJAUwq1mvx",
        "outputId": "5e8e89a7-84ff-4b57-b186-3d3087288bd8",
        "colab": {
          "base_uri": "https://localhost:8080/"
        }
      },
      "execution_count": null,
      "outputs": [
        {
          "output_type": "stream",
          "name": "stdout",
          "text": [
            "6.0\n"
          ]
        }
      ]
    },
    {
      "cell_type": "code",
      "source": [
        "sub = 3.5 - (-2)\n",
        "print(sub)"
      ],
      "metadata": {
        "id": "RITrXHZD1wD0",
        "outputId": "c67197c3-afa4-4273-bdb8-489a3e99777a",
        "colab": {
          "base_uri": "https://localhost:8080/"
        }
      },
      "execution_count": null,
      "outputs": [
        {
          "output_type": "stream",
          "name": "stdout",
          "text": [
            "5.5\n"
          ]
        }
      ]
    },
    {
      "cell_type": "code",
      "source": [
        "x = 5\n",
        "y = 3\n",
        "ans = x - y\n",
        "print(ans)"
      ],
      "metadata": {
        "id": "cFhuL9v21wex",
        "outputId": "80947f13-74ce-484c-9859-e7e0a9a996fb",
        "colab": {
          "base_uri": "https://localhost:8080/"
        }
      },
      "execution_count": null,
      "outputs": [
        {
          "output_type": "stream",
          "name": "stdout",
          "text": [
            "2\n"
          ]
        }
      ]
    },
    {
      "cell_type": "markdown",
      "source": [
        "## Modulus (%)\n",
        "\n",
        "---\n",
        "\n",
        "* Return the reminder of a division problem"
      ],
      "metadata": {
        "id": "nhtT9k3b1_XB"
      }
    },
    {
      "cell_type": "code",
      "source": [
        "modulus = 4 % 2\n",
        "print(modulus)"
      ],
      "metadata": {
        "id": "wGhJTrPQ2KSm",
        "outputId": "55108a02-7416-4d67-d1cd-40b631e60d05",
        "colab": {
          "base_uri": "https://localhost:8080/"
        }
      },
      "execution_count": null,
      "outputs": [
        {
          "output_type": "stream",
          "name": "stdout",
          "text": [
            "0\n"
          ]
        }
      ]
    },
    {
      "cell_type": "code",
      "source": [
        "modulus = 8.0 % 2.0\n",
        "print(modulus)"
      ],
      "metadata": {
        "id": "vOBZ6AdZ2Rz-",
        "outputId": "64a05efa-0374-4491-b021-e487a995baaa",
        "colab": {
          "base_uri": "https://localhost:8080/"
        }
      },
      "execution_count": null,
      "outputs": [
        {
          "output_type": "stream",
          "name": "stdout",
          "text": [
            "0.0\n"
          ]
        }
      ]
    },
    {
      "cell_type": "code",
      "source": [
        "modulus = -9 % -4\n",
        "print(modulus)"
      ],
      "metadata": {
        "id": "-P4QMtyp3CDz",
        "outputId": "bc8aad32-becf-44d9-e640-59ec1aefc513",
        "colab": {
          "base_uri": "https://localhost:8080/"
        }
      },
      "execution_count": null,
      "outputs": [
        {
          "output_type": "stream",
          "name": "stdout",
          "text": [
            "-1\n"
          ]
        }
      ]
    },
    {
      "cell_type": "code",
      "source": [
        "modulus = 5 % 2\n",
        "print(modulus)"
      ],
      "metadata": {
        "id": "D28n--dS3LDZ",
        "outputId": "49551a34-6c73-49c3-aa9f-df46e343be1d",
        "colab": {
          "base_uri": "https://localhost:8080/"
        }
      },
      "execution_count": null,
      "outputs": [
        {
          "output_type": "stream",
          "name": "stdout",
          "text": [
            "1\n"
          ]
        }
      ]
    },
    {
      "cell_type": "code",
      "source": [
        "modulus = -2 % 3.5\n",
        "print(modulus)"
      ],
      "metadata": {
        "id": "34VwxyAt3Ovp",
        "outputId": "dbc9668f-0dce-4be9-b3b2-12f0946da1cb",
        "colab": {
          "base_uri": "https://localhost:8080/"
        }
      },
      "execution_count": null,
      "outputs": [
        {
          "output_type": "stream",
          "name": "stdout",
          "text": [
            "1.5\n"
          ]
        }
      ]
    },
    {
      "cell_type": "code",
      "source": [
        "modulus = -9 % 4\n",
        "print(modulus)"
      ],
      "metadata": {
        "id": "zcCm3b3A3SvV",
        "outputId": "88297cfd-91d2-403e-fada-a1686277e97c",
        "colab": {
          "base_uri": "https://localhost:8080/"
        }
      },
      "execution_count": null,
      "outputs": [
        {
          "output_type": "stream",
          "name": "stdout",
          "text": [
            "3\n"
          ]
        }
      ]
    },
    {
      "cell_type": "code",
      "source": [
        "modulus = 2 % 4\n",
        "print(modulus)"
      ],
      "metadata": {
        "id": "K-CEjARl3XB-",
        "outputId": "25b3da25-b2fd-49c3-e818-58191f1f5c55",
        "colab": {
          "base_uri": "https://localhost:8080/"
        }
      },
      "execution_count": null,
      "outputs": [
        {
          "output_type": "stream",
          "name": "stdout",
          "text": [
            "2\n"
          ]
        }
      ]
    },
    {
      "cell_type": "code",
      "source": [
        "modulus = 2 % -3.5\n",
        "print(modulus)"
      ],
      "metadata": {
        "id": "B6wpK00M3dU4",
        "outputId": "7dd38744-57a1-402c-c704-e892a99fe99e",
        "colab": {
          "base_uri": "https://localhost:8080/"
        }
      },
      "execution_count": null,
      "outputs": [
        {
          "output_type": "stream",
          "name": "stdout",
          "text": [
            "-1.5\n"
          ]
        }
      ]
    },
    {
      "cell_type": "code",
      "source": [
        "modulus = 9 % -4\n",
        "print(modulus)"
      ],
      "metadata": {
        "id": "93EDzXXj3guv",
        "outputId": "aa72f9bd-e369-48d0-eb78-c112172c03cd",
        "colab": {
          "base_uri": "https://localhost:8080/"
        }
      },
      "execution_count": null,
      "outputs": [
        {
          "output_type": "stream",
          "name": "stdout",
          "text": [
            "-3\n"
          ]
        }
      ]
    },
    {
      "cell_type": "markdown",
      "source": [
        "## Moltiplication (*) & Division (/)\n",
        "\n",
        "\n",
        "\n",
        "---\n",
        "\n"
      ],
      "metadata": {
        "id": "_HVY9zsj3sG2"
      }
    },
    {
      "cell_type": "code",
      "source": [
        "mul = 2 * 3\n",
        "print(mul)"
      ],
      "metadata": {
        "id": "flpeJG0f4B8G",
        "outputId": "61d6e88e-bf0b-46d5-e4d7-49e336a7df5d",
        "colab": {
          "base_uri": "https://localhost:8080/"
        }
      },
      "execution_count": null,
      "outputs": [
        {
          "output_type": "stream",
          "name": "stdout",
          "text": [
            "6\n"
          ]
        }
      ]
    },
    {
      "cell_type": "code",
      "source": [
        "mul = 8.0 * 2.0\n",
        "print(mul)"
      ],
      "metadata": {
        "id": "HN9BgkvT4JHn",
        "outputId": "c15002e2-04f2-405f-886e-76cf8f574492",
        "colab": {
          "base_uri": "https://localhost:8080/"
        }
      },
      "execution_count": null,
      "outputs": [
        {
          "output_type": "stream",
          "name": "stdout",
          "text": [
            "16.0\n"
          ]
        }
      ]
    },
    {
      "cell_type": "code",
      "source": [
        "mul = 2 * -3.5\n",
        "print(mul)"
      ],
      "metadata": {
        "id": "hUH68_Gj4Wuw",
        "outputId": "ef666544-9ede-4708-9e65-5ce0493bc5ab",
        "colab": {
          "base_uri": "https://localhost:8080/"
        }
      },
      "execution_count": null,
      "outputs": [
        {
          "output_type": "stream",
          "name": "stdout",
          "text": [
            "-7.0\n"
          ]
        }
      ]
    },
    {
      "cell_type": "code",
      "source": [
        "x = 5\n",
        "y = 3\n",
        "ans = x * y\n",
        "print(ans)"
      ],
      "metadata": {
        "id": "_XGQ2o7r4M1X",
        "outputId": "7b70eaae-f289-44e5-d6a1-8375e627bd92",
        "colab": {
          "base_uri": "https://localhost:8080/"
        }
      },
      "execution_count": null,
      "outputs": [
        {
          "output_type": "stream",
          "name": "stdout",
          "text": [
            "15\n"
          ]
        }
      ]
    },
    {
      "cell_type": "code",
      "source": [
        "div = 2 / 2\n",
        "print(div)"
      ],
      "metadata": {
        "id": "U2NrVa7_4b2z",
        "outputId": "b4e21ffd-f457-4e1d-ecc5-b78470f6a1c7",
        "colab": {
          "base_uri": "https://localhost:8080/"
        }
      },
      "execution_count": null,
      "outputs": [
        {
          "output_type": "stream",
          "name": "stdout",
          "text": [
            "1.0\n"
          ]
        }
      ]
    },
    {
      "cell_type": "code",
      "source": [
        "div = 8.0 / -2.0\n",
        "print(div)"
      ],
      "metadata": {
        "id": "pSjs0AKy4hxM",
        "outputId": "8ff363b1-bda6-4e8b-e36c-70ee233738ed",
        "colab": {
          "base_uri": "https://localhost:8080/"
        }
      },
      "execution_count": null,
      "outputs": [
        {
          "output_type": "stream",
          "name": "stdout",
          "text": [
            "-4.0\n"
          ]
        }
      ]
    },
    {
      "cell_type": "code",
      "source": [
        "div = 5 / 3\n",
        "print(div)"
      ],
      "metadata": {
        "id": "qDsg-WGg4pUy",
        "outputId": "032e8f30-4448-4bfc-e208-262c88169ce1",
        "colab": {
          "base_uri": "https://localhost:8080/"
        }
      },
      "execution_count": null,
      "outputs": [
        {
          "output_type": "stream",
          "name": "stdout",
          "text": [
            "1.6666666666666667\n"
          ]
        }
      ]
    },
    {
      "cell_type": "code",
      "source": [
        "div = 10.0 / 2\n",
        "print(div)"
      ],
      "metadata": {
        "id": "FK2Y_-zj4tx2",
        "outputId": "7786e724-c8e9-4493-b2c9-a329e24a28a9",
        "colab": {
          "base_uri": "https://localhost:8080/"
        }
      },
      "execution_count": null,
      "outputs": [
        {
          "output_type": "stream",
          "name": "stdout",
          "text": [
            "5.0\n"
          ]
        }
      ]
    },
    {
      "cell_type": "markdown",
      "source": [
        "If we divede for 0 python will give an Error."
      ],
      "metadata": {
        "id": "85cz5c4x45KH"
      }
    },
    {
      "cell_type": "code",
      "source": [
        "x = 6\n",
        "y = 0\n",
        "div = x / y\n",
        "print(div)"
      ],
      "metadata": {
        "id": "E4CQfb3O4wcz",
        "outputId": "85276eba-e569-4d5e-e797-b13d7dc508d9",
        "colab": {
          "base_uri": "https://localhost:8080/",
          "height": 193
        }
      },
      "execution_count": null,
      "outputs": [
        {
          "output_type": "error",
          "ename": "ZeroDivisionError",
          "evalue": "division by zero",
          "traceback": [
            "\u001b[0;31m---------------------------------------------------------------------------\u001b[0m",
            "\u001b[0;31mZeroDivisionError\u001b[0m                         Traceback (most recent call last)",
            "\u001b[0;32m<ipython-input-31-e553be3b6b6d>\u001b[0m in \u001b[0;36m<cell line: 3>\u001b[0;34m()\u001b[0m\n\u001b[1;32m      1\u001b[0m \u001b[0mx\u001b[0m \u001b[0;34m=\u001b[0m \u001b[0;36m6\u001b[0m\u001b[0;34m\u001b[0m\u001b[0;34m\u001b[0m\u001b[0m\n\u001b[1;32m      2\u001b[0m \u001b[0my\u001b[0m \u001b[0;34m=\u001b[0m \u001b[0;36m0\u001b[0m\u001b[0;34m\u001b[0m\u001b[0;34m\u001b[0m\u001b[0m\n\u001b[0;32m----> 3\u001b[0;31m \u001b[0mdiv\u001b[0m \u001b[0;34m=\u001b[0m \u001b[0mx\u001b[0m \u001b[0;34m/\u001b[0m \u001b[0my\u001b[0m\u001b[0;34m\u001b[0m\u001b[0;34m\u001b[0m\u001b[0m\n\u001b[0m\u001b[1;32m      4\u001b[0m \u001b[0mprint\u001b[0m\u001b[0;34m(\u001b[0m\u001b[0mdiv\u001b[0m\u001b[0;34m)\u001b[0m\u001b[0;34m\u001b[0m\u001b[0;34m\u001b[0m\u001b[0m\n",
            "\u001b[0;31mZeroDivisionError\u001b[0m: division by zero"
          ]
        }
      ]
    },
    {
      "cell_type": "markdown",
      "source": [
        "## Exponentiation\n",
        "\n",
        "\n",
        "\n",
        "---\n",
        "\n",
        "* Multiplies a value with itself a certain number of time.\n"
      ],
      "metadata": {
        "id": "9CLteqd85A0L"
      }
    },
    {
      "cell_type": "code",
      "source": [
        "exp = 4 ** 2\n",
        "print(exp)"
      ],
      "metadata": {
        "id": "lRnk-eNP5OPj",
        "outputId": "87897f0f-83d5-4080-caad-3bf975239423",
        "colab": {
          "base_uri": "https://localhost:8080/"
        }
      },
      "execution_count": null,
      "outputs": [
        {
          "output_type": "stream",
          "name": "stdout",
          "text": [
            "16\n"
          ]
        }
      ]
    },
    {
      "cell_type": "code",
      "source": [
        "exp = 8.0 ** 2.0\n",
        "print(exp)"
      ],
      "metadata": {
        "id": "jxIXGsFF5j-Z",
        "outputId": "e569ad75-1937-40ba-94c7-cffc8460d50a",
        "colab": {
          "base_uri": "https://localhost:8080/"
        }
      },
      "execution_count": null,
      "outputs": [
        {
          "output_type": "stream",
          "name": "stdout",
          "text": [
            "64.0\n"
          ]
        }
      ]
    },
    {
      "cell_type": "code",
      "source": [
        "exp = 5 ** -3\n",
        "print(exp)"
      ],
      "metadata": {
        "id": "FqLT1_3S5oFe",
        "outputId": "dbe6d91d-7c9e-48ad-e680-4b5ef4f395c0",
        "colab": {
          "base_uri": "https://localhost:8080/"
        }
      },
      "execution_count": null,
      "outputs": [
        {
          "output_type": "stream",
          "name": "stdout",
          "text": [
            "0.008\n"
          ]
        }
      ]
    },
    {
      "cell_type": "code",
      "source": [
        "exp = 5 ** 0\n",
        "print(exp)"
      ],
      "metadata": {
        "id": "6ErAlM-w5smK",
        "outputId": "fbea35ea-6fe9-4010-f53e-8e08540e8f7d",
        "colab": {
          "base_uri": "https://localhost:8080/"
        }
      },
      "execution_count": null,
      "outputs": [
        {
          "output_type": "stream",
          "name": "stdout",
          "text": [
            "1\n"
          ]
        }
      ]
    },
    {
      "cell_type": "code",
      "source": [
        "exp = 2 ** 3.5\n",
        "print(exp)"
      ],
      "metadata": {
        "id": "M8IIVkC25vmZ",
        "outputId": "8261277f-1eaa-4e97-d7f3-a8742b9d3979",
        "colab": {
          "base_uri": "https://localhost:8080/"
        }
      },
      "execution_count": null,
      "outputs": [
        {
          "output_type": "stream",
          "name": "stdout",
          "text": [
            "11.313708498984761\n"
          ]
        }
      ]
    },
    {
      "cell_type": "code",
      "source": [
        "exp = (-10) ** -2\n",
        "print(exp)"
      ],
      "metadata": {
        "id": "BapMKMUQ5zzJ",
        "outputId": "52c3191e-006e-40bc-cf9d-4514d0106ef2",
        "colab": {
          "base_uri": "https://localhost:8080/"
        }
      },
      "execution_count": null,
      "outputs": [
        {
          "output_type": "stream",
          "name": "stdout",
          "text": [
            "0.01\n"
          ]
        }
      ]
    },
    {
      "cell_type": "markdown",
      "source": [
        "## Floor Division\n",
        "\n",
        "---\n",
        "\n",
        "* Division, but rounded the result down to the nearest whole number."
      ],
      "metadata": {
        "id": "2aEjerRs55PX"
      }
    },
    {
      "cell_type": "code",
      "source": [
        "fld = 4 // 2\n",
        "print(fld)"
      ],
      "metadata": {
        "id": "CmyIGrZH6LZv",
        "outputId": "ec58e502-9830-4e87-e09c-65a33245997a",
        "colab": {
          "base_uri": "https://localhost:8080/"
        }
      },
      "execution_count": null,
      "outputs": [
        {
          "output_type": "stream",
          "name": "stdout",
          "text": [
            "2\n"
          ]
        }
      ]
    },
    {
      "cell_type": "code",
      "source": [
        "fld = 8.0 // 2.0\n",
        "print(fld)"
      ],
      "metadata": {
        "id": "1cq397PS6RBy",
        "outputId": "8b9ccb71-11eb-42a4-af20-9ea0168db908",
        "colab": {
          "base_uri": "https://localhost:8080/"
        }
      },
      "execution_count": null,
      "outputs": [
        {
          "output_type": "stream",
          "name": "stdout",
          "text": [
            "4.0\n"
          ]
        }
      ]
    },
    {
      "cell_type": "code",
      "source": [
        "fld = -9 // -4\n",
        "print(fld)"
      ],
      "metadata": {
        "id": "hGcje3h96X80",
        "outputId": "ea98ccc2-7cb9-4033-aee0-13b41d6a47d4",
        "colab": {
          "base_uri": "https://localhost:8080/"
        }
      },
      "execution_count": null,
      "outputs": [
        {
          "output_type": "stream",
          "name": "stdout",
          "text": [
            "2\n"
          ]
        }
      ]
    },
    {
      "cell_type": "code",
      "source": [
        "fld = 5 // 2\n",
        "print(fld)"
      ],
      "metadata": {
        "id": "l1FztxWr6gFD",
        "outputId": "ce65df3b-a8c8-4c75-d69a-b95cee618996",
        "colab": {
          "base_uri": "https://localhost:8080/"
        }
      },
      "execution_count": null,
      "outputs": [
        {
          "output_type": "stream",
          "name": "stdout",
          "text": [
            "2\n"
          ]
        }
      ]
    },
    {
      "cell_type": "code",
      "source": [
        "fld = -2 // 3.5\n",
        "print(fld)"
      ],
      "metadata": {
        "id": "KH4_l_1i6ims",
        "outputId": "b515a138-2abd-44a3-8b18-75f5234178e0",
        "colab": {
          "base_uri": "https://localhost:8080/"
        }
      },
      "execution_count": null,
      "outputs": [
        {
          "output_type": "stream",
          "name": "stdout",
          "text": [
            "-1.0\n"
          ]
        }
      ]
    },
    {
      "cell_type": "code",
      "source": [
        "fld = -9 // 4\n",
        "print(fld)"
      ],
      "metadata": {
        "id": "MLkJK6gm6mS2",
        "outputId": "73331e4a-b863-48c2-ae8a-71b9ef37853f",
        "colab": {
          "base_uri": "https://localhost:8080/"
        }
      },
      "execution_count": null,
      "outputs": [
        {
          "output_type": "stream",
          "name": "stdout",
          "text": [
            "-3\n"
          ]
        }
      ]
    },
    {
      "cell_type": "code",
      "source": [
        "fld = 3 // 4\n",
        "print(fld)"
      ],
      "metadata": {
        "id": "NDps2dpq6pW0",
        "outputId": "bbe9c309-18d5-4948-9ddd-4f45c60c360a",
        "colab": {
          "base_uri": "https://localhost:8080/"
        }
      },
      "execution_count": null,
      "outputs": [
        {
          "output_type": "stream",
          "name": "stdout",
          "text": [
            "0\n"
          ]
        }
      ]
    },
    {
      "cell_type": "code",
      "source": [
        "fld = -2 // -3.5\n",
        "print(fld)"
      ],
      "metadata": {
        "id": "feWOY4C76tMn",
        "outputId": "38a0781f-1b30-465f-a76d-58f4d23ecc1a",
        "colab": {
          "base_uri": "https://localhost:8080/"
        }
      },
      "execution_count": null,
      "outputs": [
        {
          "output_type": "stream",
          "name": "stdout",
          "text": [
            "0.0\n"
          ]
        }
      ]
    },
    {
      "cell_type": "code",
      "source": [
        "fld = 9 // -4\n",
        "print(fld)"
      ],
      "metadata": {
        "id": "u6L2G60H6_aP",
        "outputId": "1b7afcff-133d-4d1b-c9e6-cecbf81c6cab",
        "colab": {
          "base_uri": "https://localhost:8080/"
        }
      },
      "execution_count": null,
      "outputs": [
        {
          "output_type": "stream",
          "name": "stdout",
          "text": [
            "-3\n"
          ]
        }
      ]
    },
    {
      "cell_type": "markdown",
      "source": [
        "# String concatenation\n",
        "\n",
        "##Addiction\n",
        "\n",
        "---\n",
        "\n",
        "* What happens when we add two strings?\n",
        "\n",
        "  'abc' + 'abc'\n",
        "  \n",
        "  Output: abcabc\n",
        "\n",
        "* This is called concatenation"
      ],
      "metadata": {
        "id": "NHSMdX_52SEQ"
      }
    },
    {
      "cell_type": "code",
      "source": [
        "first = 'Lisa'\n",
        "second = 'Carpenter'\n",
        "full_name = first + ' ' + second\n",
        "print(full_name)"
      ],
      "metadata": {
        "colab": {
          "base_uri": "https://localhost:8080/"
        },
        "id": "EkjaT_eY29Vo",
        "outputId": "814d97be-721a-4443-f292-b137b341b14f"
      },
      "execution_count": 4,
      "outputs": [
        {
          "output_type": "stream",
          "name": "stdout",
          "text": [
            "Lisa Carpenter\n"
          ]
        }
      ]
    },
    {
      "cell_type": "markdown",
      "source": [
        "* You cannot add string and numbers togheder.\n",
        "  \n",
        "  'abc' + 1\n",
        "\n",
        "  Output: TypeError: can only concatenate str (not *int*) to str."
      ],
      "metadata": {
        "id": "HuYm_Af93z6T"
      }
    },
    {
      "cell_type": "code",
      "source": [
        "a = 'abc' + 1\n",
        "print(a)"
      ],
      "metadata": {
        "colab": {
          "base_uri": "https://localhost:8080/",
          "height": 159
        },
        "id": "LUt627zp4U6y",
        "outputId": "cb389d1b-b7a9-4bda-d48b-d124997d9b71"
      },
      "execution_count": 5,
      "outputs": [
        {
          "output_type": "error",
          "ename": "TypeError",
          "evalue": "can only concatenate str (not \"int\") to str",
          "traceback": [
            "\u001b[0;31m---------------------------------------------------------------------------\u001b[0m",
            "\u001b[0;31mTypeError\u001b[0m                                 Traceback (most recent call last)",
            "\u001b[0;32m<ipython-input-5-dbee3b1bec05>\u001b[0m in \u001b[0;36m<cell line: 1>\u001b[0;34m()\u001b[0m\n\u001b[0;32m----> 1\u001b[0;31m \u001b[0ma\u001b[0m \u001b[0;34m=\u001b[0m \u001b[0;34m'abc'\u001b[0m \u001b[0;34m+\u001b[0m \u001b[0;36m1\u001b[0m\u001b[0;34m\u001b[0m\u001b[0;34m\u001b[0m\u001b[0m\n\u001b[0m\u001b[1;32m      2\u001b[0m \u001b[0mprint\u001b[0m\u001b[0;34m(\u001b[0m\u001b[0ma\u001b[0m\u001b[0;34m)\u001b[0m\u001b[0;34m\u001b[0m\u001b[0;34m\u001b[0m\u001b[0m\n",
            "\u001b[0;31mTypeError\u001b[0m: can only concatenate str (not \"int\") to str"
          ]
        }
      ]
    },
    {
      "cell_type": "markdown",
      "source": [
        "* String operations can only take place between strings, so a solution is to turn the number into a string.\n",
        "\n",
        "  'abc' + str(1)\n",
        "\n",
        "  Output: abc1"
      ],
      "metadata": {
        "id": "DmP_H_KW4dDE"
      }
    },
    {
      "cell_type": "code",
      "source": [
        "a = 'abc' + str(1)\n",
        "print(a)"
      ],
      "metadata": {
        "colab": {
          "base_uri": "https://localhost:8080/"
        },
        "id": "yx-OGxfc44tx",
        "outputId": "b600d677-b51b-4f15-8353-49807c66a107"
      },
      "execution_count": 6,
      "outputs": [
        {
          "output_type": "stream",
          "name": "stdout",
          "text": [
            "abc1\n"
          ]
        }
      ]
    },
    {
      "cell_type": "markdown",
      "source": [
        "## Multiplication\n",
        "\n",
        "---\n",
        "\n",
        "* Lets see what happens if you multiply a string  by a number:\n",
        "\n",
        "  'abc' * 5\n",
        "\n",
        "  Output: abcabcabcabcabc"
      ],
      "metadata": {
        "id": "kvgBOsG45Knd"
      }
    },
    {
      "cell_type": "code",
      "source": [
        "a = 'abc'* 5\n",
        "print(a)"
      ],
      "metadata": {
        "colab": {
          "base_uri": "https://localhost:8080/"
        },
        "id": "ZqfMNuRv5ppz",
        "outputId": "8cccd29f-c664-44aa-e6da-51bf30c3a1c8"
      },
      "execution_count": 7,
      "outputs": [
        {
          "output_type": "stream",
          "name": "stdout",
          "text": [
            "abcabcabcabcabc\n"
          ]
        }
      ]
    },
    {
      "cell_type": "markdown",
      "source": [
        "* You cannot multiply two strings together!\n",
        "\n",
        "  'abc' * 'abc'\n",
        "\n",
        "  Output: TypeError: can't multiply sequence by non-int of type 'str'"
      ],
      "metadata": {
        "id": "T237hboK5371"
      }
    },
    {
      "cell_type": "code",
      "source": [
        "a = 'abc' * 'abc'\n",
        "print(a)"
      ],
      "metadata": {
        "colab": {
          "base_uri": "https://localhost:8080/",
          "height": 159
        },
        "id": "YgE31RVc6SJO",
        "outputId": "c623fd59-f256-4cf2-bd3a-c003e88957d8"
      },
      "execution_count": 8,
      "outputs": [
        {
          "output_type": "error",
          "ename": "TypeError",
          "evalue": "can't multiply sequence by non-int of type 'str'",
          "traceback": [
            "\u001b[0;31m---------------------------------------------------------------------------\u001b[0m",
            "\u001b[0;31mTypeError\u001b[0m                                 Traceback (most recent call last)",
            "\u001b[0;32m<ipython-input-8-98ae8ae2d7aa>\u001b[0m in \u001b[0;36m<cell line: 1>\u001b[0;34m()\u001b[0m\n\u001b[0;32m----> 1\u001b[0;31m \u001b[0ma\u001b[0m \u001b[0;34m=\u001b[0m \u001b[0;34m'abc'\u001b[0m \u001b[0;34m*\u001b[0m \u001b[0;34m'abc'\u001b[0m\u001b[0;34m\u001b[0m\u001b[0;34m\u001b[0m\u001b[0m\n\u001b[0m\u001b[1;32m      2\u001b[0m \u001b[0mprint\u001b[0m\u001b[0;34m(\u001b[0m\u001b[0ma\u001b[0m\u001b[0;34m)\u001b[0m\u001b[0;34m\u001b[0m\u001b[0;34m\u001b[0m\u001b[0m\n",
            "\u001b[0;31mTypeError\u001b[0m: can't multiply sequence by non-int of type 'str'"
          ]
        }
      ]
    },
    {
      "cell_type": "markdown",
      "source": [
        "## Other operations\n",
        "\n",
        "---\n",
        "\n",
        "* No other operations would work!\n",
        "* You would get an error"
      ],
      "metadata": {
        "id": "b0P-pYcp6hVJ"
      }
    },
    {
      "cell_type": "markdown",
      "source": [
        "# Comparisons and Logic\n",
        "\n",
        "## Assign Operator\n",
        "---\n",
        "\n",
        "* Used to assign a value to a variable.\n",
        "\n",
        "  my_str = 'abc'\n",
        "  x =5"
      ],
      "metadata": {
        "id": "uMI_xTXyKBRS"
      }
    },
    {
      "cell_type": "code",
      "source": [
        "my_str = 'abc'\n",
        "print(my_str)\n",
        "y = 5\n",
        "print(y)"
      ],
      "metadata": {
        "colab": {
          "base_uri": "https://localhost:8080/"
        },
        "id": "rxmsFVq3Khp6",
        "outputId": "10eacf14-e1f6-4756-b1eb-e4f6952c609d"
      },
      "execution_count": 63,
      "outputs": [
        {
          "output_type": "stream",
          "name": "stdout",
          "text": [
            "abc\n",
            "5\n"
          ]
        }
      ]
    },
    {
      "cell_type": "code",
      "source": [
        "x = x + 1\n",
        "print(x)"
      ],
      "metadata": {
        "colab": {
          "base_uri": "https://localhost:8080/"
        },
        "id": "RDX9E_VUK-KU",
        "outputId": "eb2af308-edae-4fbe-db7d-8263ba4c1ff8"
      },
      "execution_count": 71,
      "outputs": [
        {
          "output_type": "stream",
          "name": "stdout",
          "text": [
            "14\n"
          ]
        }
      ]
    },
    {
      "cell_type": "code",
      "source": [
        "x =+ 1\n",
        "print(x)"
      ],
      "metadata": {
        "colab": {
          "base_uri": "https://localhost:8080/"
        },
        "id": "eNx-kvpWLRfE",
        "outputId": "aa578973-de4d-4024-ee28-708656820885"
      },
      "execution_count": 76,
      "outputs": [
        {
          "output_type": "stream",
          "name": "stdout",
          "text": [
            "1\n"
          ]
        }
      ]
    },
    {
      "cell_type": "code",
      "source": [
        "a = 5\n",
        "a += 5\n",
        "a = 5\n",
        "a *= 5\n",
        "a -= 5\n",
        "\n",
        "print(a)"
      ],
      "metadata": {
        "colab": {
          "base_uri": "https://localhost:8080/"
        },
        "id": "a5ryXR7vLice",
        "outputId": "f26c812c-bdef-471b-a701-432f23d8df9e"
      },
      "execution_count": 77,
      "outputs": [
        {
          "output_type": "stream",
          "name": "stdout",
          "text": [
            "20\n"
          ]
        }
      ]
    },
    {
      "cell_type": "markdown",
      "source": [
        "## Arithmetic Assigment (=+, -=, *=, /=)\n",
        "\n",
        "---\n",
        "\n",
        "Assign an existing variable to itself following the result of an operation:\n",
        "\n",
        "* x = x + 1\n",
        "\n",
        "* Is the same as writing:\n",
        "  \n",
        "  x +=1\n",
        "\n",
        " * Following the rules of math and string operations, so will raise an error if used incorrectly"
      ],
      "metadata": {
        "id": "JmEZ7HPcrXJV"
      }
    },
    {
      "cell_type": "markdown",
      "source": [
        "## Equality and Comparisond Operators\n",
        "\n",
        "---\n",
        "\n",
        "Comparisond operator are used to compare two values.\n",
        "\n",
        "\n",
        "\n"
      ],
      "metadata": {
        "id": "quph3TkqtB-Y"
      }
    },
    {
      "cell_type": "markdown",
      "source": [
        "## Equality (==)\n",
        "\n",
        "---\n",
        "\n",
        "\n",
        "\n",
        "  Check whether two expressions give the same value.  "
      ],
      "metadata": {
        "id": "iNdpO0E1tclT"
      }
    },
    {
      "cell_type": "code",
      "source": [
        "1 == 1\n"
      ],
      "metadata": {
        "colab": {
          "base_uri": "https://localhost:8080/"
        },
        "id": "P-V6wRfntwsc",
        "outputId": "c66d959d-eb91-4eed-b41a-3678946786d0"
      },
      "execution_count": 3,
      "outputs": [
        {
          "output_type": "execute_result",
          "data": {
            "text/plain": [
              "True"
            ]
          },
          "metadata": {},
          "execution_count": 3
        }
      ]
    },
    {
      "cell_type": "code",
      "source": [
        "'qwerty' == 1"
      ],
      "metadata": {
        "colab": {
          "base_uri": "https://localhost:8080/"
        },
        "id": "O9DXDh7euDhp",
        "outputId": "1d7f0646-4da9-439a-acb9-0b7a3d68e800"
      },
      "execution_count": 4,
      "outputs": [
        {
          "output_type": "execute_result",
          "data": {
            "text/plain": [
              "False"
            ]
          },
          "metadata": {},
          "execution_count": 4
        }
      ]
    },
    {
      "cell_type": "markdown",
      "source": [
        "* Used as a question can be used on any data types."
      ],
      "metadata": {
        "id": "xD352IjJuOS2"
      }
    },
    {
      "cell_type": "markdown",
      "source": [
        "## Not Equal operator(!=)\n",
        "\n",
        "---\n",
        "\n",
        "* Opposite to  ==, compares wheter two expressions point to different values."
      ],
      "metadata": {
        "id": "jmWVOG5TuV74"
      }
    },
    {
      "cell_type": "code",
      "source": [
        "1 != 1"
      ],
      "metadata": {
        "colab": {
          "base_uri": "https://localhost:8080/"
        },
        "id": "p37wy0jPuyZU",
        "outputId": "dc6500ae-3cc4-45cc-dd99-6e5095d4e409"
      },
      "execution_count": 5,
      "outputs": [
        {
          "output_type": "execute_result",
          "data": {
            "text/plain": [
              "False"
            ]
          },
          "metadata": {},
          "execution_count": 5
        }
      ]
    },
    {
      "cell_type": "code",
      "source": [
        "'rose' != 1"
      ],
      "metadata": {
        "colab": {
          "base_uri": "https://localhost:8080/"
        },
        "id": "w9Jmm1qAu2t1",
        "outputId": "21b49dcb-71e9-4164-a1bd-ea065c805e45"
      },
      "execution_count": 6,
      "outputs": [
        {
          "output_type": "execute_result",
          "data": {
            "text/plain": [
              "True"
            ]
          },
          "metadata": {},
          "execution_count": 6
        }
      ]
    },
    {
      "cell_type": "markdown",
      "source": [
        "* Used as a question can be used on any data types."
      ],
      "metadata": {
        "id": "2I0t1DOKvBRX"
      }
    },
    {
      "cell_type": "markdown",
      "source": [
        "## Comparisons Operator (>, <, >=, <=)\n",
        "\n",
        "---\n",
        "\n",
        "Check whether two expressions are greater or less than each other."
      ],
      "metadata": {
        "id": "slxzxlWjvJyk"
      }
    },
    {
      "cell_type": "code",
      "source": [
        "1 >= 2"
      ],
      "metadata": {
        "colab": {
          "base_uri": "https://localhost:8080/"
        },
        "id": "E1Sph34Dvrvb",
        "outputId": "a510c0b8-b0b1-47fe-fb17-914b3136b712"
      },
      "execution_count": 7,
      "outputs": [
        {
          "output_type": "execute_result",
          "data": {
            "text/plain": [
              "False"
            ]
          },
          "metadata": {},
          "execution_count": 7
        }
      ]
    },
    {
      "cell_type": "code",
      "source": [
        "'daffodil' < 1"
      ],
      "metadata": {
        "colab": {
          "base_uri": "https://localhost:8080/",
          "height": 141
        },
        "id": "aJb7s7oYvvH_",
        "outputId": "3f2012a2-a5fd-4936-fa82-123986bc3d98"
      },
      "execution_count": 8,
      "outputs": [
        {
          "output_type": "error",
          "ename": "TypeError",
          "evalue": "'<' not supported between instances of 'str' and 'int'",
          "traceback": [
            "\u001b[0;31m---------------------------------------------------------------------------\u001b[0m",
            "\u001b[0;31mTypeError\u001b[0m                                 Traceback (most recent call last)",
            "\u001b[0;32m<ipython-input-8-88446b49a382>\u001b[0m in \u001b[0;36m<cell line: 1>\u001b[0;34m()\u001b[0m\n\u001b[0;32m----> 1\u001b[0;31m \u001b[0;34m'daffodil'\u001b[0m \u001b[0;34m<\u001b[0m \u001b[0;36m1\u001b[0m\u001b[0;34m\u001b[0m\u001b[0;34m\u001b[0m\u001b[0m\n\u001b[0m",
            "\u001b[0;31mTypeError\u001b[0m: '<' not supported between instances of 'str' and 'int'"
          ]
        }
      ]
    },
    {
      "cell_type": "markdown",
      "source": [
        "* Used as a question can be used only on similar data types. String can not be campared to numeric types."
      ],
      "metadata": {
        "id": "uFSg4kDMv2z1"
      }
    },
    {
      "cell_type": "markdown",
      "source": [
        "## Is Operator\n",
        "\n",
        "---\n",
        "\n",
        "The 'is' operator  checks to see if 2  variables contain the same object."
      ],
      "metadata": {
        "id": "jernxdMPwMq9"
      }
    },
    {
      "cell_type": "code",
      "source": [
        "my_string = 'hello'\n",
        "my_string += ' world'\n",
        "my_string2 = 'hello world'\n",
        "\n",
        "my_string == my_string2"
      ],
      "metadata": {
        "colab": {
          "base_uri": "https://localhost:8080/"
        },
        "id": "2B6ZC8vnwjqN",
        "outputId": "fa19f94f-58d7-4772-f962-6abf2da628e3"
      },
      "execution_count": 14,
      "outputs": [
        {
          "output_type": "execute_result",
          "data": {
            "text/plain": [
              "True"
            ]
          },
          "metadata": {},
          "execution_count": 14
        }
      ]
    },
    {
      "cell_type": "code",
      "source": [
        "my_string is my_string2"
      ],
      "metadata": {
        "colab": {
          "base_uri": "https://localhost:8080/"
        },
        "id": "tUwB9AQdxUFi",
        "outputId": "a24f701f-0313-4f07-df69-795d921d70b0"
      },
      "execution_count": 12,
      "outputs": [
        {
          "output_type": "execute_result",
          "data": {
            "text/plain": [
              "False"
            ]
          },
          "metadata": {},
          "execution_count": 12
        }
      ]
    },
    {
      "cell_type": "code",
      "source": [
        "1 is 1.0"
      ],
      "metadata": {
        "colab": {
          "base_uri": "https://localhost:8080/"
        },
        "id": "-sCNn5ppynSY",
        "outputId": "466fe715-6955-4c6e-9c90-dd66b5b67489"
      },
      "execution_count": 19,
      "outputs": [
        {
          "output_type": "stream",
          "name": "stderr",
          "text": [
            "<>:1: SyntaxWarning: \"is\" with a literal. Did you mean \"==\"?\n",
            "<>:1: SyntaxWarning: \"is\" with a literal. Did you mean \"==\"?\n",
            "<ipython-input-19-2ebf4c947f31>:1: SyntaxWarning: \"is\" with a literal. Did you mean \"==\"?\n",
            "  1 is 1.0\n"
          ]
        },
        {
          "output_type": "execute_result",
          "data": {
            "text/plain": [
              "False"
            ]
          },
          "metadata": {},
          "execution_count": 19
        }
      ]
    },
    {
      "cell_type": "code",
      "source": [
        "1 != 'a'"
      ],
      "metadata": {
        "colab": {
          "base_uri": "https://localhost:8080/"
        },
        "id": "63mroeMeyrqL",
        "outputId": "4dfbfe74-7a05-4480-f3a8-a0bb979bee04"
      },
      "execution_count": 20,
      "outputs": [
        {
          "output_type": "execute_result",
          "data": {
            "text/plain": [
              "True"
            ]
          },
          "metadata": {},
          "execution_count": 20
        }
      ]
    },
    {
      "cell_type": "code",
      "source": [
        "1 < 'a'"
      ],
      "metadata": {
        "colab": {
          "base_uri": "https://localhost:8080/",
          "height": 141
        },
        "id": "ZmgZ-ArLyxLQ",
        "outputId": "66656e37-7546-421a-fb1d-bb8d8b07d583"
      },
      "execution_count": 21,
      "outputs": [
        {
          "output_type": "error",
          "ename": "TypeError",
          "evalue": "'<' not supported between instances of 'int' and 'str'",
          "traceback": [
            "\u001b[0;31m---------------------------------------------------------------------------\u001b[0m",
            "\u001b[0;31mTypeError\u001b[0m                                 Traceback (most recent call last)",
            "\u001b[0;32m<ipython-input-21-4751c80d99ec>\u001b[0m in \u001b[0;36m<cell line: 1>\u001b[0;34m()\u001b[0m\n\u001b[0;32m----> 1\u001b[0;31m \u001b[0;36m1\u001b[0m \u001b[0;34m<\u001b[0m \u001b[0;34m'a'\u001b[0m\u001b[0;34m\u001b[0m\u001b[0;34m\u001b[0m\u001b[0m\n\u001b[0m",
            "\u001b[0;31mTypeError\u001b[0m: '<' not supported between instances of 'int' and 'str'"
          ]
        }
      ]
    },
    {
      "cell_type": "code",
      "source": [
        "1.1 <= 1"
      ],
      "metadata": {
        "colab": {
          "base_uri": "https://localhost:8080/"
        },
        "id": "SefFQXaqy2i0",
        "outputId": "84b01e37-c616-4a77-d801-9e87afabc7bb"
      },
      "execution_count": 22,
      "outputs": [
        {
          "output_type": "execute_result",
          "data": {
            "text/plain": [
              "False"
            ]
          },
          "metadata": {},
          "execution_count": 22
        }
      ]
    },
    {
      "cell_type": "code",
      "source": [
        "1 == 1.0"
      ],
      "metadata": {
        "colab": {
          "base_uri": "https://localhost:8080/"
        },
        "id": "UiG-99Hly6JB",
        "outputId": "63ca1301-c72a-4391-d5d4-52f16d06d274"
      },
      "execution_count": 23,
      "outputs": [
        {
          "output_type": "execute_result",
          "data": {
            "text/plain": [
              "True"
            ]
          },
          "metadata": {},
          "execution_count": 23
        }
      ]
    },
    {
      "cell_type": "code",
      "source": [
        "1 is (2 - 1)"
      ],
      "metadata": {
        "colab": {
          "base_uri": "https://localhost:8080/"
        },
        "id": "evU5YW8SyCYu",
        "outputId": "af6a8cbc-339d-414a-a0d1-d84ebb24adc7"
      },
      "execution_count": 18,
      "outputs": [
        {
          "output_type": "stream",
          "name": "stderr",
          "text": [
            "<>:1: SyntaxWarning: \"is\" with a literal. Did you mean \"==\"?\n",
            "<>:1: SyntaxWarning: \"is\" with a literal. Did you mean \"==\"?\n",
            "<ipython-input-18-601367867c45>:1: SyntaxWarning: \"is\" with a literal. Did you mean \"==\"?\n",
            "  1 is (2 - 1)\n"
          ]
        },
        {
          "output_type": "execute_result",
          "data": {
            "text/plain": [
              "True"
            ]
          },
          "metadata": {},
          "execution_count": 18
        }
      ]
    },
    {
      "cell_type": "markdown",
      "source": [
        "## if Statements\n",
        "\n",
        "---\n",
        "\n",
        "* An if statement checks a condition first.\n",
        "* If the condition is True, then the code will be executed:\n",
        "\n",
        "Example:\n",
        "\n",
        "  a = 7\n",
        "\n",
        "  b = 5\n",
        "\n",
        "  if a > b:\n",
        "\n",
        "        print('a is the larger number)\n",
        "\n"
      ],
      "metadata": {
        "id": "KimnZLhf0F3c"
      }
    },
    {
      "cell_type": "code",
      "source": [
        "a = 7\n",
        "b = 5\n",
        "if a > b:\n",
        "  print('a is the larger number')"
      ],
      "metadata": {
        "colab": {
          "base_uri": "https://localhost:8080/"
        },
        "id": "QY71hrEB1dHi",
        "outputId": "dc17c1f5-42b2-40c4-d7c4-2afeb581f2fa"
      },
      "execution_count": 25,
      "outputs": [
        {
          "output_type": "stream",
          "name": "stdout",
          "text": [
            "a is the larger number\n"
          ]
        }
      ]
    },
    {
      "cell_type": "markdown",
      "source": [
        "## elif Statement\n",
        "\n",
        "---\n",
        "\n",
        "* If the first condiction is not met, perhaps  we would like to check a second condiction.\n",
        "\n",
        "* Elif is used to check another condiction without having to write a whole new if statement.\n",
        "\n",
        "Example:\n",
        "\n",
        "a = 20\n",
        "\n",
        "b = 55\n",
        "\n",
        "if a > b:\n",
        "\n",
        "      print('a is the larger number')\n",
        "  \n",
        "elif a < b:\n",
        "\n",
        "      print('b is the larger number')\n",
        "\n",
        "\n"
      ],
      "metadata": {
        "id": "mKDv2bWO11G-"
      }
    },
    {
      "cell_type": "code",
      "source": [
        "a = 20\n",
        "b = 55\n",
        "\n",
        "if a > b:\n",
        "      print('a is the larger number')\n",
        "\n",
        "elif a < b:\n",
        "      print('b is the larger number')"
      ],
      "metadata": {
        "colab": {
          "base_uri": "https://localhost:8080/"
        },
        "id": "Xdze30hF2xeN",
        "outputId": "44330d09-879a-438e-a26a-68348c7dc040"
      },
      "execution_count": 26,
      "outputs": [
        {
          "output_type": "stream",
          "name": "stdout",
          "text": [
            "b is the larger number\n"
          ]
        }
      ]
    },
    {
      "cell_type": "markdown",
      "source": [
        "## Else Statement\n",
        "\n",
        "---\n",
        "\n",
        "* What if we want to run some code if none of the conditions are true?\n",
        "\n",
        "* An else branch always goes last.\n",
        "\n",
        "* It catches all other outcome.\n",
        "\n",
        "Example:\n",
        "\n",
        "    a = 20\n",
        "    b = 20\n",
        "    if a > b:\n",
        "        print('a is the larger number')\n",
        "    elif a < b:\n",
        "        print('b is the larger number')\n",
        "    else:\n",
        "        print('number are equal')\n",
        "\n",
        "    "
      ],
      "metadata": {
        "id": "Yzi9QLaeMDc8"
      }
    },
    {
      "cell_type": "code",
      "source": [
        "a = 20\n",
        "b = 20\n",
        "if a > b:\n",
        "    print('a is the larger number')\n",
        "elif a < b:\n",
        "    print('b is the larger number')\n",
        "else:\n",
        "    print('number are equal')"
      ],
      "metadata": {
        "colab": {
          "base_uri": "https://localhost:8080/"
        },
        "id": "A6vATF9bNPQy",
        "outputId": "3c0228c1-d06c-4dc8-e01a-42f07f38938c"
      },
      "execution_count": 1,
      "outputs": [
        {
          "output_type": "stream",
          "name": "stdout",
          "text": [
            "number are equal\n"
          ]
        }
      ]
    },
    {
      "cell_type": "code",
      "source": [
        "a = 10\n",
        "b = 20\n",
        "if a > b:\n",
        "    print('a is the larger number')\n",
        "elif a < b:\n",
        "    print('b is the larger number')\n",
        "else:\n",
        "    print('number are equal')"
      ],
      "metadata": {
        "colab": {
          "base_uri": "https://localhost:8080/"
        },
        "id": "8IvmfmPFNZD7",
        "outputId": "1045e3fb-a9f9-4376-c283-f3dda2e97b65"
      },
      "execution_count": 2,
      "outputs": [
        {
          "output_type": "stream",
          "name": "stdout",
          "text": [
            "b is the larger number\n"
          ]
        }
      ]
    },
    {
      "cell_type": "code",
      "source": [
        "a = 20\n",
        "b = 7\n",
        "if a > b:\n",
        "    print('a is the larger number')\n",
        "elif a < b:\n",
        "    print('b is the larger number')\n",
        "else:\n",
        "    print('number are equal')"
      ],
      "metadata": {
        "colab": {
          "base_uri": "https://localhost:8080/"
        },
        "id": "_qzwyoYlNjE0",
        "outputId": "ed3832af-9ab3-4b37-c8d0-0f949d8ef0c0"
      },
      "execution_count": 3,
      "outputs": [
        {
          "output_type": "stream",
          "name": "stdout",
          "text": [
            "a is the larger number\n"
          ]
        }
      ]
    },
    {
      "cell_type": "markdown",
      "source": [
        "## Good Practice\n",
        "\n",
        "---\n",
        "\n",
        "* We should not make assumptions about the else  branch:\n",
        "\n",
        "    a = 20\n",
        "b = 7\n",
        "if a > b:\n",
        "    print('a is the larger number')\n",
        "elif a < b:\n",
        "    print('b is the larger number')\n",
        "else:\n",
        "    print('something's wrong')"
      ],
      "metadata": {
        "id": "t8Qv4XJPNqft"
      }
    },
    {
      "cell_type": "markdown",
      "source": [
        "## The if Statement Syntax\n",
        "\n",
        "---\n",
        "\n",
        "We start we the key word **if** and we have the condition (if a > b:) and we have the colon.\n",
        "\n",
        "After the condiction we have the indentation, python use the indentation from the left to see what is considered part of the previous instruction."
      ],
      "metadata": {
        "id": "tezoYCfgQBh9"
      }
    },
    {
      "cell_type": "code",
      "source": [
        "a = 20\n",
        "b = 20\n",
        "if a > b:\n",
        "    print('a is the larger number')\n",
        "    print('a second new line')\n",
        "elif a < b:\n",
        "    print('b is the larger number')\n",
        "else:\n",
        "    print('number are equal')"
      ],
      "metadata": {
        "colab": {
          "base_uri": "https://localhost:8080/"
        },
        "id": "MYex08B7RZI-",
        "outputId": "02df4e66-bbc1-4fab-c508-165846913be4"
      },
      "execution_count": 4,
      "outputs": [
        {
          "output_type": "stream",
          "name": "stdout",
          "text": [
            "number are equal\n"
          ]
        }
      ]
    },
    {
      "cell_type": "code",
      "source": [
        "x = '2'\n",
        "if x >= \"0\":\n",
        "  print('I am larger alphabetically than 0')\n",
        "elif x > 0:\n",
        "  print('I am larger numerically than 0')\n",
        "else:\n",
        "  print('I am either less than 0 or a single character symbol')"
      ],
      "metadata": {
        "colab": {
          "base_uri": "https://localhost:8080/"
        },
        "id": "AzIUWShGSCJd",
        "outputId": "edacd4a3-13ba-4a1e-f357-1af116dfb80d"
      },
      "execution_count": 5,
      "outputs": [
        {
          "output_type": "stream",
          "name": "stdout",
          "text": [
            "I am larger alphabetically than 0\n"
          ]
        }
      ]
    },
    {
      "cell_type": "markdown",
      "source": [
        "Though there would be an erroer in line 4 (because try to compare the string '2' with the integer 0), this code is not reached because the if statement is satisfied."
      ],
      "metadata": {
        "id": "T2EaJWiOS_YE"
      }
    },
    {
      "cell_type": "markdown",
      "source": [
        "## List manipulation\n",
        "\n",
        "\n",
        "\n",
        "---\n",
        "\n",
        "\n",
        "* What is Indexing?\n",
        "\n",
        "  A way to obtainelements in a data collection by referring to their  position aka index.\n",
        "  python use zero-based indexing - it starting counting positions from 0.\n",
        "\n",
        "  Example:\n",
        "\n",
        "  breakfast = ['Egg Royale', 'Pancakes', 'Cocopops', 'Milk']\n",
        "\n",
        "  index = [0] = Egg Royale, [1] = Pancakes, [2] = ECocopops, [3] = Milk,\n",
        "  negative index =  [-4] = Egg Royale, [-3] = Pancakes, [-2] = Cocopops, [-1] = Milk,\n"
      ],
      "metadata": {
        "id": "ADMpx2GZ7cGh"
      }
    },
    {
      "cell_type": "code",
      "source": [
        "breakfast = ['Eggs Royale', 'Pancakes', 'Cocopops', 'Milk']\n",
        "print(breakfast[0], 'is index [0]')\n",
        "print(breakfast[1], 'is index [1]')\n",
        "print(breakfast[2], 'is index [2]')\n",
        "print(breakfast[3], 'is index [3]')"
      ],
      "metadata": {
        "colab": {
          "base_uri": "https://localhost:8080/"
        },
        "id": "j2A8WMnz9WDN",
        "outputId": "2703b4f6-cd61-42db-84e1-6ad5ea40c141"
      },
      "execution_count": 22,
      "outputs": [
        {
          "output_type": "stream",
          "name": "stdout",
          "text": [
            "Eggs Royale is index [0]\n",
            "Pancakes is index [1]\n",
            "Cocopops is index [2]\n",
            "Milk is index [3]\n"
          ]
        }
      ]
    },
    {
      "cell_type": "code",
      "source": [
        "breakfast = ['Eggs Royale', 'Pancakes', 'Cocopops', 'Milk']\n",
        "print(breakfast[-4], 'is index [-4]')\n",
        "print(breakfast[-3], 'is index [-3]')\n",
        "print(breakfast[-2], 'is index [-2]')\n",
        "print(breakfast[-1], 'is index [-1]')"
      ],
      "metadata": {
        "colab": {
          "base_uri": "https://localhost:8080/"
        },
        "id": "wB16p0zK9_3i",
        "outputId": "a16ca899-a6e0-46a5-8e60-82e3cbd2f9ae"
      },
      "execution_count": 23,
      "outputs": [
        {
          "output_type": "stream",
          "name": "stdout",
          "text": [
            "Eggs Royale is index [-4]\n",
            "Pancakes is index [-3]\n",
            "Cocopops is index [-2]\n",
            "Milk is index [-1]\n"
          ]
        }
      ]
    },
    {
      "cell_type": "code",
      "source": [
        "breakfast = ['Eggs Royale', 'Pancakes', 'Cocopops', 'Milk']\n",
        "print(breakfast[0])"
      ],
      "metadata": {
        "colab": {
          "base_uri": "https://localhost:8080/"
        },
        "id": "vaH3J9JZ-hrE",
        "outputId": "411ca253-9bc5-4474-a72e-d9acf1075066"
      },
      "execution_count": 24,
      "outputs": [
        {
          "output_type": "stream",
          "name": "stdout",
          "text": [
            "Eggs Royale\n"
          ]
        }
      ]
    },
    {
      "cell_type": "code",
      "source": [
        "breakfast = ['Eggs Royale', 'Pancakes', 'Cocopops', 'Milk']\n",
        "print(breakfast[-3])"
      ],
      "metadata": {
        "colab": {
          "base_uri": "https://localhost:8080/"
        },
        "id": "4abIxrCy-yJP",
        "outputId": "dded444c-3db5-4c62-e138-188199bb3c31"
      },
      "execution_count": 25,
      "outputs": [
        {
          "output_type": "stream",
          "name": "stdout",
          "text": [
            "Pancakes\n"
          ]
        }
      ]
    },
    {
      "cell_type": "code",
      "source": [
        "breakfast = ['Eggs Royale', 'Pancakes', 'Cocopops', 'Milk']\n",
        "print(breakfast[2])"
      ],
      "metadata": {
        "colab": {
          "base_uri": "https://localhost:8080/"
        },
        "id": "flGdAN5r-1jN",
        "outputId": "e2614c3a-ac61-4e13-fb79-4f94ddce5a37"
      },
      "execution_count": 26,
      "outputs": [
        {
          "output_type": "stream",
          "name": "stdout",
          "text": [
            "Cocopops\n"
          ]
        }
      ]
    },
    {
      "cell_type": "markdown",
      "source": [
        "## Indexing Lists and Strings\n",
        "\n",
        "---\n",
        "\n",
        "* You can also select an element within an element this will you select a small progressively  small pieces. When we have a multiple square brackets python read the the square brackets starting from the left.\n",
        "\n",
        "Example:\n",
        "\n",
        "    breakfast[0][3]\n",
        "\n",
        "    python read [0] the first item from the breakfast list that in this case is 'Eggs Royale' and index [3] to pick the 4th item of the word eggs that in this case is 's'. After that you can not go any smaller, it will give you an error."
      ],
      "metadata": {
        "id": "EIYbQCbR_5EJ"
      }
    },
    {
      "cell_type": "code",
      "source": [
        "breakfast = ['Eggs Royale', 'Pancakes', 'Cocopops', 'Milk']\n",
        "print(breakfast[0][3])"
      ],
      "metadata": {
        "colab": {
          "base_uri": "https://localhost:8080/"
        },
        "id": "JAkbtKai_QLt",
        "outputId": "eb4bffbf-3466-4840-a1d3-8d1033f43a90"
      },
      "execution_count": 30,
      "outputs": [
        {
          "output_type": "stream",
          "name": "stdout",
          "text": [
            "s\n"
          ]
        }
      ]
    },
    {
      "cell_type": "code",
      "source": [
        "breakfast = ['Eggs Royale', 'Pancakes', 'Cocopops', 'Milk']\n",
        "print(breakfast[1][5])"
      ],
      "metadata": {
        "colab": {
          "base_uri": "https://localhost:8080/"
        },
        "id": "jzhXfJoeD8ij",
        "outputId": "0d2b9e0e-674d-4bf7-ebe6-2ff08ac75d5d"
      },
      "execution_count": 31,
      "outputs": [
        {
          "output_type": "stream",
          "name": "stdout",
          "text": [
            "k\n"
          ]
        }
      ]
    },
    {
      "cell_type": "code",
      "source": [
        "breakfast = ['Eggs Royale', 'Pancakes', 'Cocopops', 'Milk']\n",
        "print(breakfast[-3][3])"
      ],
      "metadata": {
        "colab": {
          "base_uri": "https://localhost:8080/"
        },
        "id": "_TV6GSouECr0",
        "outputId": "662034a0-03d6-43cc-c07e-fa4eb4f426ad"
      },
      "execution_count": 32,
      "outputs": [
        {
          "output_type": "stream",
          "name": "stdout",
          "text": [
            "c\n"
          ]
        }
      ]
    },
    {
      "cell_type": "code",
      "source": [
        "breakfast = ['Eggs Royale', 'Pancakes', 'Cocopops', 'Milk']\n",
        "print(breakfast[-1][0])"
      ],
      "metadata": {
        "colab": {
          "base_uri": "https://localhost:8080/"
        },
        "id": "Jr0PxrGjEHCx",
        "outputId": "f9a8d2b1-e9ca-40ff-d3fc-7d0a5a609119"
      },
      "execution_count": 34,
      "outputs": [
        {
          "output_type": "stream",
          "name": "stdout",
          "text": [
            "M\n"
          ]
        }
      ]
    },
    {
      "cell_type": "code",
      "source": [
        "breakfast = ['Eggs Royale', 'Pancakes', 'Cocopops', 'Milk']\n",
        "print(breakfast[0][3][1])"
      ],
      "metadata": {
        "colab": {
          "base_uri": "https://localhost:8080/",
          "height": 159
        },
        "id": "Rpskj7zsEQdf",
        "outputId": "86679c84-f49c-4c0f-ec9e-44bdc87d1a92"
      },
      "execution_count": 35,
      "outputs": [
        {
          "output_type": "error",
          "ename": "IndexError",
          "evalue": "string index out of range",
          "traceback": [
            "\u001b[0;31m---------------------------------------------------------------------------\u001b[0m",
            "\u001b[0;31mIndexError\u001b[0m                                Traceback (most recent call last)",
            "\u001b[0;32m<ipython-input-35-4c09e1c4eca1>\u001b[0m in \u001b[0;36m<cell line: 2>\u001b[0;34m()\u001b[0m\n\u001b[1;32m      1\u001b[0m \u001b[0mbreakfast\u001b[0m \u001b[0;34m=\u001b[0m \u001b[0;34m[\u001b[0m\u001b[0;34m'Eggs Royale'\u001b[0m\u001b[0;34m,\u001b[0m \u001b[0;34m'Pancakes'\u001b[0m\u001b[0;34m,\u001b[0m \u001b[0;34m'Cocopops'\u001b[0m\u001b[0;34m,\u001b[0m \u001b[0;34m'Milk'\u001b[0m\u001b[0;34m]\u001b[0m\u001b[0;34m\u001b[0m\u001b[0;34m\u001b[0m\u001b[0m\n\u001b[0;32m----> 2\u001b[0;31m \u001b[0mprint\u001b[0m\u001b[0;34m(\u001b[0m\u001b[0mbreakfast\u001b[0m\u001b[0;34m[\u001b[0m\u001b[0;36m0\u001b[0m\u001b[0;34m]\u001b[0m\u001b[0;34m[\u001b[0m\u001b[0;36m3\u001b[0m\u001b[0;34m]\u001b[0m\u001b[0;34m[\u001b[0m\u001b[0;36m1\u001b[0m\u001b[0;34m]\u001b[0m\u001b[0;34m)\u001b[0m\u001b[0;34m\u001b[0m\u001b[0;34m\u001b[0m\u001b[0m\n\u001b[0m",
            "\u001b[0;31mIndexError\u001b[0m: string index out of range"
          ]
        }
      ]
    },
    {
      "cell_type": "markdown",
      "source": [],
      "metadata": {
        "id": "WPwNE-b0E7S9"
      }
    },
    {
      "cell_type": "markdown",
      "source": [
        "## Neasted List\n",
        "\n",
        "---\n",
        "\n",
        "* Finally, using the same logic, you can also access list and smaller components within them.\n",
        "\n",
        "Example:\n",
        "\n",
        "      listy = [[1,2,3], [4,5,6], ['potato', 'salad','egg']]"
      ],
      "metadata": {
        "id": "ES7Ta19AFPP9"
      }
    },
    {
      "cell_type": "code",
      "source": [
        "listy = [[1,2,3], [4,5,6], ['potato', 'salad','egg']]\n",
        "listy[0]"
      ],
      "metadata": {
        "colab": {
          "base_uri": "https://localhost:8080/"
        },
        "id": "X27ixKJlF_1H",
        "outputId": "1c1a0809-450a-4006-e3bf-d9de5c377dd5"
      },
      "execution_count": 38,
      "outputs": [
        {
          "output_type": "execute_result",
          "data": {
            "text/plain": [
              "[1, 2, 3]"
            ]
          },
          "metadata": {},
          "execution_count": 38
        }
      ]
    },
    {
      "cell_type": "code",
      "source": [
        "listy = [[1,2,3], [4,5,6], ['potato', 'salad','egg']]\n",
        "listy[-1][0]"
      ],
      "metadata": {
        "colab": {
          "base_uri": "https://localhost:8080/",
          "height": 35
        },
        "id": "WhXOV7FsGNcc",
        "outputId": "2d30d7b6-26c2-497e-c47f-5189f18e423d"
      },
      "execution_count": 39,
      "outputs": [
        {
          "output_type": "execute_result",
          "data": {
            "text/plain": [
              "'potato'"
            ],
            "application/vnd.google.colaboratory.intrinsic+json": {
              "type": "string"
            }
          },
          "metadata": {},
          "execution_count": 39
        }
      ]
    },
    {
      "cell_type": "code",
      "source": [
        "listy = [[1,2,3], [4,5,6], ['potato', 'salad','egg']]\n",
        "listy[1][-2]"
      ],
      "metadata": {
        "colab": {
          "base_uri": "https://localhost:8080/"
        },
        "id": "5lkCqh4kGTb8",
        "outputId": "27c8e99f-3083-48a0-f8c2-7f319f45d951"
      },
      "execution_count": 40,
      "outputs": [
        {
          "output_type": "execute_result",
          "data": {
            "text/plain": [
              "5"
            ]
          },
          "metadata": {},
          "execution_count": 40
        }
      ]
    },
    {
      "cell_type": "code",
      "source": [
        "listy = [[1,2,3], [4,5,6], ['potato', 'salad','egg']]\n",
        "listy[-1][0][4]"
      ],
      "metadata": {
        "colab": {
          "base_uri": "https://localhost:8080/",
          "height": 35
        },
        "id": "xUi6X7JFGbX1",
        "outputId": "4d20da8d-b966-4cc1-f153-071cfe0dea2f"
      },
      "execution_count": 41,
      "outputs": [
        {
          "output_type": "execute_result",
          "data": {
            "text/plain": [
              "'t'"
            ],
            "application/vnd.google.colaboratory.intrinsic+json": {
              "type": "string"
            }
          },
          "metadata": {},
          "execution_count": 41
        }
      ]
    },
    {
      "cell_type": "code",
      "source": [
        "listy = [[1,2,3], [4,5,6], ['potato', 'salad','egg']]\n",
        "listy[-1][2][2]"
      ],
      "metadata": {
        "colab": {
          "base_uri": "https://localhost:8080/",
          "height": 35
        },
        "id": "pQ84_FbvGj7J",
        "outputId": "275512e4-7a97-493c-cb79-c4755fee70cf"
      },
      "execution_count": 49,
      "outputs": [
        {
          "output_type": "execute_result",
          "data": {
            "text/plain": [
              "'g'"
            ],
            "application/vnd.google.colaboratory.intrinsic+json": {
              "type": "string"
            }
          },
          "metadata": {},
          "execution_count": 49
        }
      ]
    },
    {
      "cell_type": "code",
      "source": [
        "listy = [[1,2,3], [4,5,6], ['potato', 'salad','egg']]\n",
        "listy[2][1][4]"
      ],
      "metadata": {
        "colab": {
          "base_uri": "https://localhost:8080/",
          "height": 35
        },
        "id": "RBq-9T3aHYGM",
        "outputId": "2804e688-dd5b-4687-fe3a-623a555df0a5"
      },
      "execution_count": 51,
      "outputs": [
        {
          "output_type": "execute_result",
          "data": {
            "text/plain": [
              "'d'"
            ],
            "application/vnd.google.colaboratory.intrinsic+json": {
              "type": "string"
            }
          },
          "metadata": {},
          "execution_count": 51
        }
      ]
    },
    {
      "cell_type": "code",
      "source": [
        "listy = [[1,2,3], [4,5,6], ['potato', 'salad','egg']]\n",
        "listy[-1]"
      ],
      "metadata": {
        "colab": {
          "base_uri": "https://localhost:8080/"
        },
        "id": "kZYqKozKHkV8",
        "outputId": "a26bbc13-8a71-4814-fa07-44fdf2a77b5b"
      },
      "execution_count": 52,
      "outputs": [
        {
          "output_type": "execute_result",
          "data": {
            "text/plain": [
              "['potato', 'salad', 'egg']"
            ]
          },
          "metadata": {},
          "execution_count": 52
        }
      ]
    },
    {
      "cell_type": "code",
      "source": [
        "listy = [[1,2,3], [4,5,6], ['potato', 'salad','egg']]\n",
        "listy[-3]"
      ],
      "metadata": {
        "colab": {
          "base_uri": "https://localhost:8080/"
        },
        "id": "jzOx-4JKHoej",
        "outputId": "056ebed9-39fe-492d-eb9d-8a8faddd972f"
      },
      "execution_count": 53,
      "outputs": [
        {
          "output_type": "execute_result",
          "data": {
            "text/plain": [
              "[1, 2, 3]"
            ]
          },
          "metadata": {},
          "execution_count": 53
        }
      ]
    },
    {
      "cell_type": "code",
      "source": [
        "animals = ['tigers', 'bears', ['ducks', 'giraffes', 'pandas'], 'cows']\n",
        "animals[2][0]"
      ],
      "metadata": {
        "colab": {
          "base_uri": "https://localhost:8080/",
          "height": 35
        },
        "id": "mQR7qC3EH4m4",
        "outputId": "c7d17ecd-b96e-41b3-ad35-4ece794e4924"
      },
      "execution_count": 60,
      "outputs": [
        {
          "output_type": "execute_result",
          "data": {
            "text/plain": [
              "'ducks'"
            ],
            "application/vnd.google.colaboratory.intrinsic+json": {
              "type": "string"
            }
          },
          "metadata": {},
          "execution_count": 60
        }
      ]
    },
    {
      "cell_type": "markdown",
      "source": [
        "## What is a slicing?\n",
        "\n",
        "\n",
        "---\n",
        "\n",
        "Can be used to select more than just one item.\n",
        "\n",
        "* You can use indexing on more than one item to perform slicing.\n",
        "\n",
        "* Syntax of slicing:\n",
        "    \n",
        "    * a [start : stop] does not include the stop potition\n",
        "    * a [start : ]\n",
        "    * a [ : stop]\n",
        "    * a [ : ]\n",
        "\n",
        "* There is also the step value (can be use to skip value), which can be used with any of the above:\n",
        "\n",
        "    * a [start : stop : step]\n",
        "\n",
        "* Step value is 1 by default."
      ],
      "metadata": {
        "id": "KovPmkQ7UPap"
      }
    },
    {
      "cell_type": "code",
      "source": [
        "a = [1, 2, 3, 4, 5, 6]\n",
        "print(a)\n"
      ],
      "metadata": {
        "colab": {
          "base_uri": "https://localhost:8080/"
        },
        "id": "K-2x_cTYWe2n",
        "outputId": "b35b9b93-927c-4b35-911d-4e605ea659af"
      },
      "execution_count": 6,
      "outputs": [
        {
          "output_type": "stream",
          "name": "stdout",
          "text": [
            "[1, 2, 3, 4, 5, 6]\n"
          ]
        }
      ]
    },
    {
      "cell_type": "code",
      "source": [
        "print(a[0:3])"
      ],
      "metadata": {
        "colab": {
          "base_uri": "https://localhost:8080/"
        },
        "id": "q-bTWR2XWrn6",
        "outputId": "9a5e542c-ef43-43d3-8e64-dcf1c879b77d"
      },
      "execution_count": 10,
      "outputs": [
        {
          "output_type": "stream",
          "name": "stdout",
          "text": [
            "[1, 2, 3]\n"
          ]
        }
      ]
    },
    {
      "cell_type": "code",
      "source": [
        "print(a[2:])"
      ],
      "metadata": {
        "colab": {
          "base_uri": "https://localhost:8080/"
        },
        "id": "SKhKne_OXB0U",
        "outputId": "be3a80ac-1243-4e81-facc-c85095f8df1b"
      },
      "execution_count": 12,
      "outputs": [
        {
          "output_type": "stream",
          "name": "stdout",
          "text": [
            "[3, 4, 5, 6]\n"
          ]
        }
      ]
    },
    {
      "cell_type": "code",
      "source": [
        "print(a[:4])"
      ],
      "metadata": {
        "colab": {
          "base_uri": "https://localhost:8080/"
        },
        "id": "hXw14D_aXK40",
        "outputId": "392d06b6-5b53-4649-c8ab-361aebadd874"
      },
      "execution_count": 13,
      "outputs": [
        {
          "output_type": "stream",
          "name": "stdout",
          "text": [
            "[1, 2, 3, 4]\n"
          ]
        }
      ]
    },
    {
      "cell_type": "code",
      "source": [
        "print(a[:])"
      ],
      "metadata": {
        "colab": {
          "base_uri": "https://localhost:8080/"
        },
        "id": "I9IKnMdJXTqc",
        "outputId": "84abad30-697e-437f-b613-fc440548ab8b"
      },
      "execution_count": 14,
      "outputs": [
        {
          "output_type": "stream",
          "name": "stdout",
          "text": [
            "[1, 2, 3, 4, 5, 6]\n"
          ]
        }
      ]
    },
    {
      "cell_type": "code",
      "source": [
        "print(a[0:3:2])"
      ],
      "metadata": {
        "colab": {
          "base_uri": "https://localhost:8080/"
        },
        "id": "W2teWcgqXlJp",
        "outputId": "17c67a8c-6b3e-4b2c-a8d3-3cf28de32715"
      },
      "execution_count": 15,
      "outputs": [
        {
          "output_type": "stream",
          "name": "stdout",
          "text": [
            "[1, 3]\n"
          ]
        }
      ]
    },
    {
      "cell_type": "code",
      "source": [
        "print(a[2:4:2])"
      ],
      "metadata": {
        "colab": {
          "base_uri": "https://localhost:8080/"
        },
        "id": "nb8XXpq4Xrei",
        "outputId": "f790da9e-dc1b-49ec-b3f1-0aeab73a6827"
      },
      "execution_count": 16,
      "outputs": [
        {
          "output_type": "stream",
          "name": "stdout",
          "text": [
            "[3]\n"
          ]
        }
      ]
    },
    {
      "cell_type": "markdown",
      "source": [
        "## Using negative Indexing\n",
        "\n",
        "---\n",
        "\n",
        "* As inindexing, the start or stop may be a negative number.\n",
        "\n",
        "* Which means it counts from the end of the array instead of the beginning:\n",
        "\n",
        "    * a [-1]\n",
        "\n",
        "    * a [-2 : ]\n",
        "\n",
        "    * a [ : -2]\n",
        "\n",
        "* Similarly, the step  may be a negative number:\n",
        "\n",
        "    * a [: : -1]\n",
        "    * a [1 : : -1]\n",
        "    * a [: -3 : -1]\n",
        "\n",
        "\n"
      ],
      "metadata": {
        "id": "pnjSATw0jOSH"
      }
    },
    {
      "cell_type": "code",
      "source": [
        " a = [1, 2, 3, 4, 5, 6, 7, 8, 9]\n",
        " print(a)"
      ],
      "metadata": {
        "colab": {
          "base_uri": "https://localhost:8080/"
        },
        "id": "Da5KLHonk5Z1",
        "outputId": "516847b3-70df-43bd-a33c-6585406f9215"
      },
      "execution_count": 13,
      "outputs": [
        {
          "output_type": "stream",
          "name": "stdout",
          "text": [
            "[1, 2, 3, 4, 5, 6, 7, 8, 9]\n"
          ]
        }
      ]
    },
    {
      "cell_type": "code",
      "source": [
        "print(a[-1])"
      ],
      "metadata": {
        "colab": {
          "base_uri": "https://localhost:8080/"
        },
        "id": "AXVUJn8Jk3Tg",
        "outputId": "de1dc968-9a78-4045-ebb8-1ac8bc55920c"
      },
      "execution_count": 14,
      "outputs": [
        {
          "output_type": "stream",
          "name": "stdout",
          "text": [
            "9\n"
          ]
        }
      ]
    },
    {
      "cell_type": "code",
      "source": [
        "print(a[-2 :])"
      ],
      "metadata": {
        "colab": {
          "base_uri": "https://localhost:8080/"
        },
        "id": "NpQeHhpTlVKy",
        "outputId": "f64c8d95-7f01-4a95-b86a-27910b44434a"
      },
      "execution_count": 15,
      "outputs": [
        {
          "output_type": "stream",
          "name": "stdout",
          "text": [
            "[8, 9]\n"
          ]
        }
      ]
    },
    {
      "cell_type": "code",
      "source": [
        "print(a [: -2])"
      ],
      "metadata": {
        "colab": {
          "base_uri": "https://localhost:8080/"
        },
        "id": "qabRmXkZliLU",
        "outputId": "3f9cd539-b519-407f-c626-750ea4c19b7d"
      },
      "execution_count": 16,
      "outputs": [
        {
          "output_type": "stream",
          "name": "stdout",
          "text": [
            "[1, 2, 3, 4, 5, 6, 7]\n"
          ]
        }
      ]
    },
    {
      "cell_type": "code",
      "source": [
        "print(a[: : -1])"
      ],
      "metadata": {
        "colab": {
          "base_uri": "https://localhost:8080/"
        },
        "id": "z0VolYJmlwHP",
        "outputId": "a59c6632-d907-43f3-8c54-de855bd72763"
      },
      "execution_count": 21,
      "outputs": [
        {
          "output_type": "stream",
          "name": "stdout",
          "text": [
            "[9, 8, 7, 6, 5, 4, 3, 2, 1]\n"
          ]
        }
      ]
    },
    {
      "cell_type": "code",
      "source": [
        "print(a[1 : : -1])"
      ],
      "metadata": {
        "colab": {
          "base_uri": "https://localhost:8080/"
        },
        "id": "z4x3cWAVl4wo",
        "outputId": "6d64c227-ae59-432f-8ddd-74f70beb39ab"
      },
      "execution_count": 22,
      "outputs": [
        {
          "output_type": "stream",
          "name": "stdout",
          "text": [
            "[2, 1]\n"
          ]
        }
      ]
    },
    {
      "cell_type": "code",
      "source": [
        "print(a[: -3 : -1])"
      ],
      "metadata": {
        "colab": {
          "base_uri": "https://localhost:8080/"
        },
        "id": "uJGt6qmqmAlt",
        "outputId": "a5ac4432-8b65-4e62-86c8-3fc15521d798"
      },
      "execution_count": 23,
      "outputs": [
        {
          "output_type": "stream",
          "name": "stdout",
          "text": [
            "[9, 8]\n"
          ]
        }
      ]
    },
    {
      "cell_type": "code",
      "source": [
        "x = [0, 1, 2, 3, 4, 5, 6, 7, 8, 9]"
      ],
      "metadata": {
        "id": "zBmQJOoSmSMF"
      },
      "execution_count": 24,
      "outputs": []
    },
    {
      "cell_type": "code",
      "source": [
        "print(x[:])"
      ],
      "metadata": {
        "colab": {
          "base_uri": "https://localhost:8080/"
        },
        "id": "jdZhLaCTmZOu",
        "outputId": "86aa8532-bb7b-4070-b881-20b08e146c1e"
      },
      "execution_count": 25,
      "outputs": [
        {
          "output_type": "stream",
          "name": "stdout",
          "text": [
            "[0, 1, 2, 3, 4, 5, 6, 7, 8, 9]\n"
          ]
        }
      ]
    },
    {
      "cell_type": "code",
      "source": [
        "print(x[-3 :])"
      ],
      "metadata": {
        "colab": {
          "base_uri": "https://localhost:8080/"
        },
        "id": "wy-Q292ymgKp",
        "outputId": "03c75e07-4da0-4a7b-f9ec-9e2d84669d4b"
      },
      "execution_count": 26,
      "outputs": [
        {
          "output_type": "stream",
          "name": "stdout",
          "text": [
            "[7, 8, 9]\n"
          ]
        }
      ]
    },
    {
      "cell_type": "code",
      "source": [
        "print(x[: 1])"
      ],
      "metadata": {
        "colab": {
          "base_uri": "https://localhost:8080/"
        },
        "id": "rSqm3H-bmv1Z",
        "outputId": "010760a9-854e-44e8-ffeb-12ca6156b588"
      },
      "execution_count": 27,
      "outputs": [
        {
          "output_type": "stream",
          "name": "stdout",
          "text": [
            "[0]\n"
          ]
        }
      ]
    },
    {
      "cell_type": "code",
      "source": [
        "print(x[: : 5])"
      ],
      "metadata": {
        "colab": {
          "base_uri": "https://localhost:8080/"
        },
        "id": "gPyKujKqm7iy",
        "outputId": "40937614-3d6e-403d-9c41-7b8df4ac7036"
      },
      "execution_count": 28,
      "outputs": [
        {
          "output_type": "stream",
          "name": "stdout",
          "text": [
            "[0, 5]\n"
          ]
        }
      ]
    },
    {
      "cell_type": "code",
      "source": [
        "print(x[: 5])"
      ],
      "metadata": {
        "colab": {
          "base_uri": "https://localhost:8080/"
        },
        "id": "vu-XZdORnI2o",
        "outputId": "206536de-f9dd-44cc-e217-b6a42d35b7a0"
      },
      "execution_count": 29,
      "outputs": [
        {
          "output_type": "stream",
          "name": "stdout",
          "text": [
            "[0, 1, 2, 3, 4]\n"
          ]
        }
      ]
    },
    {
      "cell_type": "code",
      "source": [
        "breakfast = ['Eggs Royale', 'Pancakes', 'Cocopops', 'Milk']\n"
      ],
      "metadata": {
        "id": "k90gWBgNmqoD"
      },
      "execution_count": 4,
      "outputs": []
    },
    {
      "cell_type": "code",
      "source": [
        "breakfast[: -1]"
      ],
      "metadata": {
        "id": "1Ppap_14nQEm",
        "outputId": "5127837a-6fa8-4506-d8f3-03c9e45327bd",
        "colab": {
          "base_uri": "https://localhost:8080/"
        }
      },
      "execution_count": 5,
      "outputs": [
        {
          "output_type": "execute_result",
          "data": {
            "text/plain": [
              "['Eggs Royale', 'Pancakes', 'Cocopops']"
            ]
          },
          "metadata": {},
          "execution_count": 5
        }
      ]
    },
    {
      "cell_type": "code",
      "source": [
        "breakfast[2 :]"
      ],
      "metadata": {
        "id": "JH1omGa0nxfy",
        "outputId": "dedfb006-b0de-4f28-f813-92966f3ed3e9",
        "colab": {
          "base_uri": "https://localhost:8080/"
        }
      },
      "execution_count": 6,
      "outputs": [
        {
          "output_type": "execute_result",
          "data": {
            "text/plain": [
              "['Cocopops', 'Milk']"
            ]
          },
          "metadata": {},
          "execution_count": 6
        }
      ]
    },
    {
      "cell_type": "code",
      "source": [
        "breakfast[: -99]"
      ],
      "metadata": {
        "id": "4m5PZXFRn4fk",
        "outputId": "8b947e6f-457d-4c58-edb8-882f2ca223c9",
        "colab": {
          "base_uri": "https://localhost:8080/"
        }
      },
      "execution_count": 7,
      "outputs": [
        {
          "output_type": "execute_result",
          "data": {
            "text/plain": [
              "[]"
            ]
          },
          "metadata": {},
          "execution_count": 7
        }
      ]
    },
    {
      "cell_type": "markdown",
      "source": [
        "In this case python does not give an error to us, but just an empty value because we do not have this index.\n",
        "More examples."
      ],
      "metadata": {
        "id": "PSf84nbPo7CT"
      }
    },
    {
      "cell_type": "code",
      "source": [
        "breakfast = ['Eggs Royale', 'Pancakes', 'Cocopops', 'Milk']"
      ],
      "metadata": {
        "id": "FS3McxNQppwu"
      },
      "execution_count": 8,
      "outputs": []
    },
    {
      "cell_type": "code",
      "source": [
        "breakfast[0][2:]"
      ],
      "metadata": {
        "id": "ah11M00Vp_oo",
        "outputId": "40e83689-b998-478a-b869-e43128175e1e",
        "colab": {
          "base_uri": "https://localhost:8080/",
          "height": 35
        }
      },
      "execution_count": 9,
      "outputs": [
        {
          "output_type": "execute_result",
          "data": {
            "text/plain": [
              "'gs Royale'"
            ],
            "application/vnd.google.colaboratory.intrinsic+json": {
              "type": "string"
            }
          },
          "metadata": {},
          "execution_count": 9
        }
      ]
    },
    {
      "cell_type": "code",
      "source": [
        "breakfast[0][: -7]"
      ],
      "metadata": {
        "id": "wy8PFTl8qffP",
        "outputId": "0eefb23f-3f97-499b-ee96-79a179c8d458",
        "colab": {
          "base_uri": "https://localhost:8080/",
          "height": 35
        }
      },
      "execution_count": 10,
      "outputs": [
        {
          "output_type": "execute_result",
          "data": {
            "text/plain": [
              "'Eggs'"
            ],
            "application/vnd.google.colaboratory.intrinsic+json": {
              "type": "string"
            }
          },
          "metadata": {},
          "execution_count": 10
        }
      ]
    },
    {
      "cell_type": "code",
      "source": [
        "breakfast[0][:]"
      ],
      "metadata": {
        "id": "dxMkivLvqmzh",
        "outputId": "ea64b81b-08cd-4861-9722-34d92f7d09f0",
        "colab": {
          "base_uri": "https://localhost:8080/",
          "height": 35
        }
      },
      "execution_count": 11,
      "outputs": [
        {
          "output_type": "execute_result",
          "data": {
            "text/plain": [
              "'Eggs Royale'"
            ],
            "application/vnd.google.colaboratory.intrinsic+json": {
              "type": "string"
            }
          },
          "metadata": {},
          "execution_count": 11
        }
      ]
    },
    {
      "cell_type": "code",
      "source": [
        "breakfast[1 : : 2]"
      ],
      "metadata": {
        "id": "Tf9a1JIpqwMj",
        "outputId": "0b103d9a-b31f-4522-e538-16212f2448df",
        "colab": {
          "base_uri": "https://localhost:8080/"
        }
      },
      "execution_count": 12,
      "outputs": [
        {
          "output_type": "execute_result",
          "data": {
            "text/plain": [
              "['Pancakes', 'Milk']"
            ]
          },
          "metadata": {},
          "execution_count": 12
        }
      ]
    }
  ]
}